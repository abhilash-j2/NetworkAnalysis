{
 "cells": [
  {
   "cell_type": "markdown",
   "metadata": {},
   "source": [
    "# Management Salary Prediction from email network"
   ]
  },
  {
   "cell_type": "code",
   "execution_count": 1,
   "metadata": {},
   "outputs": [
    {
     "name": "stdout",
     "output_type": "stream",
     "text": [
      "€\u0004•\u0001\u0000\u0001\u0000\u0000\u0000\u0000\u0000Œ\u0016networkx.classes.graph”Œ\u0005Graph”“”)�”}”(Œ\u0017graph_attr_dict_factory”builtins”Œ\u0004dict”“”Œ\u0011node_dict_factory”Œ\u0016node_attr_dict_factory”Œ\u001aadjlist_outer_dict_factory”Œ\u001aadjlist_inner_dict_factory”Œ\u0016edge_attr_dict_factory”Œ\u0005graph”}”Œ\u0005_node”}”(K\u0000}”(Œ\n",
      "Department”Œ\u0015numpy.core.multiarray”Œ\u0006scalar”“”Œ\u0005numpy”Œ\u0005dtype”“”Œ\u0002i8”K\u0000K\u0001‡”R”(K\u0003Œ\u0001<”NNNJÿÿÿÿJÿÿÿÿK\u0000t”b\u0001\u0000\u0000\u0000\u0000\u0000\u0000\u0000”†”R”Œ\u0010ManagementSalary”h\u0016h\u0019Œ\u0002f8”K\u0000K\u0001‡”R”(K\u0003h\u001d",
      "NNNJÿÿÿÿJÿÿÿÿK\u0000t”b\u0000\u0000\u0000\u0000\u0000\u0000\u0000\u0000”†”R”uK\u0001}”(h\u0013h\u0016h\u001c",
      "\u0001\u0000\u0000\u0000\u0000\u0000\u0000\u0000”†”R”h\"h\u0016h%\u0000\u0000\u0000\u0000\u0000\u0000ø”†”R”uK\u0002}”(h\u0013h\u0016h\u001c",
      "\u0015\u0000\u0000\u0000\u0000\u0000\u0000\u0000”†”R”h\"h\u0016h%\u0000\u0000\u0000\u0000\u0000\u0000ø”†”R”uK\u0003}”(h\u0013h\u0016h\u001c",
      "\u0015\u0000\u0000\u0000\u0000\u0000\u0000\u0000”†”R”h\"h\u0016h%\u0000\u0000\u0000\u0000\u0000\u0000ð?”†”R”uK\u0004}”(h\u0013h\u0016h\u001c",
      "\u0015\u0000\u0000\u0000\u0000\u0000\u0000\u0000”†”R”h\"h\u0016h%\u0000\u0000\u0000\u0000\u0000\u0000ð?”†”R”uK\u0005}”(h\u0013h\u0016h\u001c",
      "\u0019\u0000\u0000\u0000\u0000\u0000\u0000\u0000”†”R”h\"h\u0016h%\u0000\u0000\u0000\u0000\u0000\u0000ø”†”R”uK\u0006}”(h\u0013h\u0016h\u001c",
      "\u0019\u0000\u0000\u0000\u0000\u0000\u0000\u0000”†”R”h\"h\u0016h%\u0000\u0000\u0000\u0000\u0000\u0000ð?”†”R”uK\u0007}”(h\u0013h\u0016h\u001c",
      "\u000e\u0000\u0000\u0000\u0000\u0000\u0000\u0000”†”R”h\"h\u0016h%\u0000\u0000\u0000\u0000\u0000\u0000\u0000\u0000”†”R”u}”(h\u0013h\u0016h\u001c",
      "\u000e\u0000\u0000\u0000\u0000\u0000\u0000\u0000”†”R”h\"h\u0016h%\u0000\u0000\u0000\u0000\u0000\u0000ø”†”R”uK\t}”(h\u0013h\u0016h\u001c",
      "\u000e\u0000\u0000\u0000\u0000\u0000\u0000\u0000”†”R”h\"h\u0016h%\u0000\u0000\u0000\u0000\u0000\u0000\u0000\u0000”†”R”uK\n"
     ]
    }
   ],
   "source": [
    "! head -n 2 datadump/email_prediction_vf.pkl"
   ]
  },
  {
   "cell_type": "markdown",
   "metadata": {},
   "source": [
    "The `email_prediction.txt` contains the gpickle file of the network"
   ]
  },
  {
   "cell_type": "code",
   "execution_count": 2,
   "metadata": {},
   "outputs": [],
   "source": [
    "import networkx as nx\n",
    "import pandas as pd\n",
    "import numpy as np\n",
    "import matplotlib.pyplot as plt"
   ]
  },
  {
   "cell_type": "code",
   "execution_count": 3,
   "metadata": {},
   "outputs": [],
   "source": [
    "%matplotlib widget\n"
   ]
  },
  {
   "cell_type": "code",
   "execution_count": 4,
   "metadata": {},
   "outputs": [],
   "source": [
    "G = nx.read_gpickle('datadump/email_prediction_vf.pkl')"
   ]
  },
  {
   "cell_type": "code",
   "execution_count": 5,
   "metadata": {},
   "outputs": [
    {
     "name": "stdout",
     "output_type": "stream",
     "text": [
      "Name: \n",
      "Type: Graph\n",
      "Number of nodes: 1005\n",
      "Number of edges: 16706\n",
      "Average degree:  33.2458\n"
     ]
    }
   ],
   "source": [
    "print(nx.info(G))"
   ]
  },
  {
   "cell_type": "code",
   "execution_count": 6,
   "metadata": {},
   "outputs": [
    {
     "data": {
      "text/plain": [
       "[(1, {'Department': 1, 'ManagementSalary': nan}),\n",
       " (2, {'Department': 21, 'ManagementSalary': nan}),\n",
       " (3, {'Department': 21, 'ManagementSalary': 1.0}),\n",
       " (4, {'Department': 21, 'ManagementSalary': 1.0}),\n",
       " (5, {'Department': 25, 'ManagementSalary': nan}),\n",
       " (6, {'Department': 25, 'ManagementSalary': 1.0}),\n",
       " (7, {'Department': 14, 'ManagementSalary': 0.0}),\n",
       " (8, {'Department': 14, 'ManagementSalary': nan}),\n",
       " (9, {'Department': 14, 'ManagementSalary': 0.0}),\n",
       " (10, {'Department': 9, 'ManagementSalary': 0.0}),\n",
       " (11, {'Department': 14, 'ManagementSalary': 0.0}),\n",
       " (12, {'Department': 14, 'ManagementSalary': 1.0}),\n",
       " (13, {'Department': 26, 'ManagementSalary': 1.0}),\n",
       " (14, {'Department': 4, 'ManagementSalary': nan}),\n",
       " (15, {'Department': 17, 'ManagementSalary': 0.0}),\n",
       " (16, {'Department': 34, 'ManagementSalary': 0.0}),\n",
       " (17, {'Department': 1, 'ManagementSalary': 0.0}),\n",
       " (18, {'Department': 1, 'ManagementSalary': nan}),\n",
       " (19, {'Department': 14, 'ManagementSalary': 0.0})]"
      ]
     },
     "execution_count": 6,
     "metadata": {},
     "output_type": "execute_result"
    }
   ],
   "source": [
    "list(G.nodes(data=True))[1:20]"
   ]
  },
  {
   "cell_type": "markdown",
   "metadata": {},
   "source": [
    "Here we note that each node is an employee and they have 2 attributes. `Department` refers to their Department code and `ManagementSalary` is a binary variable with\n",
    "* `1` indicating that they draw a management salary\n",
    "* `0` indicating that they don't\n",
    "* `nan` indicating the missing information which we need to predict from the data given (acts as test set)"
   ]
  },
  {
   "cell_type": "code",
   "execution_count": 7,
   "metadata": {},
   "outputs": [
    {
     "data": {
      "text/plain": [
       "[(0, 17, {}),\n",
       " (0, 316, {}),\n",
       " (0, 146, {}),\n",
       " (0, 581, {}),\n",
       " (0, 268, {}),\n",
       " (0, 221, {}),\n",
       " (0, 218, {}),\n",
       " (0, 18, {}),\n",
       " (0, 734, {}),\n",
       " (0, 178, {}),\n",
       " (0, 380, {}),\n",
       " (0, 0, {}),\n",
       " (0, 459, {}),\n",
       " (0, 215, {}),\n",
       " (0, 250, {}),\n",
       " (0, 148, {}),\n",
       " (0, 73, {}),\n",
       " (0, 74, {}),\n",
       " (0, 248, {})]"
      ]
     },
     "execution_count": 7,
     "metadata": {},
     "output_type": "execute_result"
    }
   ],
   "source": [
    "list(G.edges(data=True))[1:20]"
   ]
  },
  {
   "cell_type": "code",
   "execution_count": 8,
   "metadata": {},
   "outputs": [],
   "source": [
    "df = pd.DataFrame(index=G.nodes())\n",
    "df[\"Department\"] = pd.Series(nx.get_node_attributes(G,\"Department\"))\n",
    "df[\"ManagementSalary\"] = pd.Series(nx.get_node_attributes(G,\"ManagementSalary\"))"
   ]
  },
  {
   "cell_type": "code",
   "execution_count": 9,
   "metadata": {},
   "outputs": [
    {
     "data": {
      "text/html": [
       "<div>\n",
       "<style scoped>\n",
       "    .dataframe tbody tr th:only-of-type {\n",
       "        vertical-align: middle;\n",
       "    }\n",
       "\n",
       "    .dataframe tbody tr th {\n",
       "        vertical-align: top;\n",
       "    }\n",
       "\n",
       "    .dataframe thead th {\n",
       "        text-align: right;\n",
       "    }\n",
       "</style>\n",
       "<table border=\"1\" class=\"dataframe\">\n",
       "  <thead>\n",
       "    <tr style=\"text-align: right;\">\n",
       "      <th></th>\n",
       "      <th>Department</th>\n",
       "      <th>ManagementSalary</th>\n",
       "    </tr>\n",
       "  </thead>\n",
       "  <tbody>\n",
       "    <tr>\n",
       "      <th>0</th>\n",
       "      <td>1</td>\n",
       "      <td>0.0</td>\n",
       "    </tr>\n",
       "    <tr>\n",
       "      <th>1</th>\n",
       "      <td>1</td>\n",
       "      <td>NaN</td>\n",
       "    </tr>\n",
       "    <tr>\n",
       "      <th>2</th>\n",
       "      <td>21</td>\n",
       "      <td>NaN</td>\n",
       "    </tr>\n",
       "    <tr>\n",
       "      <th>3</th>\n",
       "      <td>21</td>\n",
       "      <td>1.0</td>\n",
       "    </tr>\n",
       "    <tr>\n",
       "      <th>4</th>\n",
       "      <td>21</td>\n",
       "      <td>1.0</td>\n",
       "    </tr>\n",
       "    <tr>\n",
       "      <th>...</th>\n",
       "      <td>...</td>\n",
       "      <td>...</td>\n",
       "    </tr>\n",
       "    <tr>\n",
       "      <th>1000</th>\n",
       "      <td>4</td>\n",
       "      <td>NaN</td>\n",
       "    </tr>\n",
       "    <tr>\n",
       "      <th>1001</th>\n",
       "      <td>21</td>\n",
       "      <td>NaN</td>\n",
       "    </tr>\n",
       "    <tr>\n",
       "      <th>1002</th>\n",
       "      <td>1</td>\n",
       "      <td>0.0</td>\n",
       "    </tr>\n",
       "    <tr>\n",
       "      <th>1003</th>\n",
       "      <td>6</td>\n",
       "      <td>0.0</td>\n",
       "    </tr>\n",
       "    <tr>\n",
       "      <th>1004</th>\n",
       "      <td>22</td>\n",
       "      <td>0.0</td>\n",
       "    </tr>\n",
       "  </tbody>\n",
       "</table>\n",
       "<p>1005 rows × 2 columns</p>\n",
       "</div>"
      ],
      "text/plain": [
       "      Department  ManagementSalary\n",
       "0              1               0.0\n",
       "1              1               NaN\n",
       "2             21               NaN\n",
       "3             21               1.0\n",
       "4             21               1.0\n",
       "...          ...               ...\n",
       "1000           4               NaN\n",
       "1001          21               NaN\n",
       "1002           1               0.0\n",
       "1003           6               0.0\n",
       "1004          22               0.0\n",
       "\n",
       "[1005 rows x 2 columns]"
      ]
     },
     "execution_count": 9,
     "metadata": {},
     "output_type": "execute_result"
    }
   ],
   "source": [
    "df"
   ]
  },
  {
   "cell_type": "code",
   "execution_count": 10,
   "metadata": {},
   "outputs": [],
   "source": [
    "df['clustering'] = pd.Series(nx.clustering(G))\n",
    "df['degree'] = pd.Series(dict(G.degree()))"
   ]
  },
  {
   "cell_type": "code",
   "execution_count": 11,
   "metadata": {},
   "outputs": [
    {
     "data": {
      "text/html": [
       "<div>\n",
       "<style scoped>\n",
       "    .dataframe tbody tr th:only-of-type {\n",
       "        vertical-align: middle;\n",
       "    }\n",
       "\n",
       "    .dataframe tbody tr th {\n",
       "        vertical-align: top;\n",
       "    }\n",
       "\n",
       "    .dataframe thead th {\n",
       "        text-align: right;\n",
       "    }\n",
       "</style>\n",
       "<table border=\"1\" class=\"dataframe\">\n",
       "  <thead>\n",
       "    <tr style=\"text-align: right;\">\n",
       "      <th></th>\n",
       "      <th>Department</th>\n",
       "      <th>ManagementSalary</th>\n",
       "      <th>clustering</th>\n",
       "      <th>degree</th>\n",
       "    </tr>\n",
       "  </thead>\n",
       "  <tbody>\n",
       "    <tr>\n",
       "      <th>0</th>\n",
       "      <td>1</td>\n",
       "      <td>0.0</td>\n",
       "      <td>0.276423</td>\n",
       "      <td>44</td>\n",
       "    </tr>\n",
       "    <tr>\n",
       "      <th>1</th>\n",
       "      <td>1</td>\n",
       "      <td>NaN</td>\n",
       "      <td>0.265306</td>\n",
       "      <td>52</td>\n",
       "    </tr>\n",
       "    <tr>\n",
       "      <th>2</th>\n",
       "      <td>21</td>\n",
       "      <td>NaN</td>\n",
       "      <td>0.297803</td>\n",
       "      <td>95</td>\n",
       "    </tr>\n",
       "    <tr>\n",
       "      <th>3</th>\n",
       "      <td>21</td>\n",
       "      <td>1.0</td>\n",
       "      <td>0.384910</td>\n",
       "      <td>71</td>\n",
       "    </tr>\n",
       "    <tr>\n",
       "      <th>4</th>\n",
       "      <td>21</td>\n",
       "      <td>1.0</td>\n",
       "      <td>0.318691</td>\n",
       "      <td>96</td>\n",
       "    </tr>\n",
       "    <tr>\n",
       "      <th>...</th>\n",
       "      <td>...</td>\n",
       "      <td>...</td>\n",
       "      <td>...</td>\n",
       "      <td>...</td>\n",
       "    </tr>\n",
       "    <tr>\n",
       "      <th>1000</th>\n",
       "      <td>4</td>\n",
       "      <td>NaN</td>\n",
       "      <td>0.600000</td>\n",
       "      <td>6</td>\n",
       "    </tr>\n",
       "    <tr>\n",
       "      <th>1001</th>\n",
       "      <td>21</td>\n",
       "      <td>NaN</td>\n",
       "      <td>0.844444</td>\n",
       "      <td>10</td>\n",
       "    </tr>\n",
       "    <tr>\n",
       "      <th>1002</th>\n",
       "      <td>1</td>\n",
       "      <td>0.0</td>\n",
       "      <td>0.000000</td>\n",
       "      <td>1</td>\n",
       "    </tr>\n",
       "    <tr>\n",
       "      <th>1003</th>\n",
       "      <td>6</td>\n",
       "      <td>0.0</td>\n",
       "      <td>0.000000</td>\n",
       "      <td>1</td>\n",
       "    </tr>\n",
       "    <tr>\n",
       "      <th>1004</th>\n",
       "      <td>22</td>\n",
       "      <td>0.0</td>\n",
       "      <td>0.000000</td>\n",
       "      <td>1</td>\n",
       "    </tr>\n",
       "  </tbody>\n",
       "</table>\n",
       "<p>1005 rows × 4 columns</p>\n",
       "</div>"
      ],
      "text/plain": [
       "      Department  ManagementSalary  clustering  degree\n",
       "0              1               0.0    0.276423      44\n",
       "1              1               NaN    0.265306      52\n",
       "2             21               NaN    0.297803      95\n",
       "3             21               1.0    0.384910      71\n",
       "4             21               1.0    0.318691      96\n",
       "...          ...               ...         ...     ...\n",
       "1000           4               NaN    0.600000       6\n",
       "1001          21               NaN    0.844444      10\n",
       "1002           1               0.0    0.000000       1\n",
       "1003           6               0.0    0.000000       1\n",
       "1004          22               0.0    0.000000       1\n",
       "\n",
       "[1005 rows x 4 columns]"
      ]
     },
     "execution_count": 11,
     "metadata": {},
     "output_type": "execute_result"
    }
   ],
   "source": [
    "df"
   ]
  },
  {
   "cell_type": "markdown",
   "metadata": {},
   "source": [
    "### Understanding the degree distribution of the network"
   ]
  },
  {
   "cell_type": "code",
   "execution_count": 12,
   "metadata": {},
   "outputs": [
    {
     "data": {
      "application/vnd.jupyter.widget-view+json": {
       "model_id": "24d31d492579440fbfa47e84e30f0cd9",
       "version_major": 2,
       "version_minor": 0
      },
      "text/plain": [
       "Canvas(toolbar=Toolbar(toolitems=[('Home', 'Reset original view', 'home', 'home'), ('Back', 'Back to previous …"
      ]
     },
     "metadata": {},
     "output_type": "display_data"
    }
   ],
   "source": [
    "df.hist(\"degree\")\n",
    "plt.show()"
   ]
  },
  {
   "cell_type": "code",
   "execution_count": 13,
   "metadata": {},
   "outputs": [
    {
     "data": {
      "application/vnd.jupyter.widget-view+json": {
       "model_id": "b5ab997ea2f34a70a5271e4c8e79d014",
       "version_major": 2,
       "version_minor": 0
      },
      "text/plain": [
       "Canvas(toolbar=Toolbar(toolitems=[('Home', 'Reset original view', 'home', 'home'), ('Back', 'Back to previous …"
      ]
     },
     "metadata": {},
     "output_type": "display_data"
    }
   ],
   "source": [
    "f, (ax1,ax2) = plt.subplots(1, 2, sharey=True, sharex = True)\n",
    "pd.plotting.hist_frame(df[df[\"ManagementSalary\"] == 1], \"degree\", ax=ax1,density=True,)\n",
    "ax1.set_title(\"ManagementSalary == 1\")\n",
    "pd.plotting.hist_frame(df[df[\"ManagementSalary\"] == 0], \"degree\", ax=ax2, density=True)\n",
    "ax2.set_title(\"ManagementSalary == 0\")\n",
    "plt.show()"
   ]
  },
  {
   "cell_type": "markdown",
   "metadata": {},
   "source": [
    "The folks with management salary seem to have a large degree as opposed to the other group"
   ]
  },
  {
   "cell_type": "code",
   "execution_count": 14,
   "metadata": {},
   "outputs": [
    {
     "data": {
      "application/vnd.jupyter.widget-view+json": {
       "model_id": "aec5cb7df37b4f14a7d2888e2b0eaef1",
       "version_major": 2,
       "version_minor": 0
      },
      "text/plain": [
       "Canvas(toolbar=Toolbar(toolitems=[('Home', 'Reset original view', 'home', 'home'), ('Back', 'Back to previous …"
      ]
     },
     "metadata": {},
     "output_type": "display_data"
    }
   ],
   "source": [
    "f, (ax1,ax2) = plt.subplots(1, 2, sharey=True, sharex = True)\n",
    "pd.plotting.hist_frame(df[df[\"ManagementSalary\"] == 1], \"clustering\", ax=ax1,density=True,)\n",
    "ax1.set_title(\"ManagementSalary == 1\")\n",
    "pd.plotting.hist_frame(df[df[\"ManagementSalary\"] == 0], \"clustering\", ax=ax2, density=True)\n",
    "ax2.set_title(\"ManagementSalary == 0\")\n",
    "plt.show()"
   ]
  },
  {
   "cell_type": "code",
   "execution_count": 15,
   "metadata": {},
   "outputs": [
    {
     "name": "stdout",
     "output_type": "stream",
     "text": [
      "[3, 4, 6, 12, 13, 21, 28, 29, 35, 36, 44, 47, 57, 58, 63, 64, 81, 82, 83, 84, 86, 87, 96, 105, 106, 107, 114, 115, 121, 128, 129, 131, 132, 133, 135, 136, 137, 138, 147, 151, 153, 160, 165, 166, 170, 171, 183, 187, 189, 191, 197, 198, 201, 209, 210, 211, 232, 269, 280, 281, 282, 285, 290, 292, 301, 318, 327, 329, 333, 337, 340, 355, 361, 376, 377, 379, 388, 397, 405, 411, 414, 417, 418, 419, 423, 424, 432, 444, 446, 453, 454, 462, 481, 489, 493, 495, 498, 509, 527, 543, 546, 548, 550, 552, 560, 573, 594, 747, 782, 809, 821, 828, 840, 859, 880, 882, 895, 925, 971]\n"
     ]
    }
   ],
   "source": [
    "management_nodes = [node_detail[0] for node_detail in list(G.nodes(data=True)) if node_detail[1][\"ManagementSalary\"] == 1]\n",
    "print(management_nodes)"
   ]
  },
  {
   "cell_type": "code",
   "execution_count": 16,
   "metadata": {},
   "outputs": [
    {
     "name": "stdout",
     "output_type": "stream",
     "text": [
      "[0, 7, 9, 10, 11, 15, 16, 17, 19, 20, 22, 23, 24, 25, 26, 32, 33, 38, 39, 41, 42, 43, 46, 48, 49, 50, 51, 52, 53, 56, 59, 61, 66, 67, 68, 69, 70, 71, 72, 73, 74, 75, 76, 78, 80, 85, 88, 89, 90, 91, 92, 93, 94, 95, 98, 99, 100, 102, 104, 109, 110, 111, 112, 116, 117, 118, 119, 120, 123, 124, 125, 126, 127, 130, 134, 139, 140, 143, 146, 148, 149, 152, 155, 156, 157, 159, 161, 162, 163, 164, 167, 168, 169, 172, 173, 174, 176, 177, 178, 179, 180, 182, 184, 185, 186, 188, 190, 192, 194, 195, 199, 203, 205, 206, 207, 208, 212, 213, 216, 217, 218, 219, 220, 221, 222, 223, 224, 225, 226, 227, 228, 229, 233, 234, 235, 237, 238, 241, 242, 243, 244, 245, 246, 248, 250, 254, 256, 257, 258, 259, 260, 263, 265, 268, 273, 274, 275, 276, 277, 284, 286, 287, 288, 289, 291, 293, 296, 297, 300, 302, 303, 304, 305, 307, 309, 313, 314, 321, 322, 323, 324, 325, 326, 328, 330, 332, 334, 335, 336, 338, 339, 341, 343, 344, 345, 346, 347, 348, 349, 350, 353, 354, 357, 358, 359, 360, 364, 365, 368, 369, 370, 371, 373, 374, 375, 378, 381, 383, 387, 390, 391, 392, 393, 394, 396, 398, 400, 401, 403, 404, 407, 410, 413, 415, 416, 421, 422, 425, 426, 427, 428, 429, 430, 431, 433, 436, 437, 438, 439, 440, 441, 442, 445, 448, 449, 450, 452, 455, 459, 460, 461, 463, 464, 467, 468, 469, 470, 472, 473, 474, 475, 476, 478, 479, 480, 486, 488, 490, 491, 497, 499, 501, 502, 504, 506, 507, 508, 510, 511, 512, 514, 515, 517, 519, 521, 523, 525, 526, 528, 532, 534, 535, 536, 537, 539, 540, 541, 542, 544, 547, 549, 551, 553, 554, 555, 556, 558, 559, 561, 562, 563, 564, 565, 566, 567, 568, 569, 570, 572, 574, 575, 576, 577, 579, 580, 581, 584, 585, 586, 587, 588, 589, 590, 591, 592, 593, 595, 596, 597, 598, 599, 600, 601, 603, 606, 607, 608, 609, 610, 611, 614, 616, 617, 618, 619, 620, 621, 622, 623, 624, 626, 627, 628, 629, 630, 631, 632, 633, 634, 635, 637, 638, 639, 642, 643, 644, 645, 648, 649, 650, 652, 653, 654, 657, 658, 659, 660, 661, 662, 663, 665, 667, 668, 672, 673, 674, 675, 677, 679, 680, 681, 684, 686, 687, 688, 689, 690, 692, 693, 694, 695, 696, 697, 698, 699, 700, 701, 702, 703, 704, 705, 706, 707, 709, 711, 712, 714, 715, 716, 718, 719, 721, 722, 723, 724, 726, 727, 728, 730, 731, 732, 733, 734, 735, 737, 739, 740, 744, 745, 746, 749, 750, 751, 752, 753, 754, 755, 756, 757, 759, 761, 762, 763, 767, 769, 770, 771, 772, 774, 775, 777, 778, 779, 780, 781, 784, 785, 790, 791, 792, 793, 794, 795, 796, 797, 801, 802, 803, 804, 805, 806, 807, 810, 811, 812, 813, 814, 815, 816, 823, 824, 827, 830, 831, 832, 833, 834, 835, 836, 838, 839, 841, 842, 843, 844, 845, 846, 847, 848, 849, 850, 851, 852, 853, 854, 855, 856, 857, 860, 861, 862, 868, 869, 870, 872, 873, 874, 875, 876, 878, 881, 883, 884, 885, 887, 888, 889, 891, 893, 894, 896, 897, 898, 900, 901, 902, 903, 904, 905, 906, 907, 908, 909, 910, 916, 917, 919, 920, 921, 922, 924, 927, 928, 929, 930, 932, 933, 935, 936, 937, 938, 940, 941, 942, 943, 946, 948, 949, 952, 954, 955, 956, 957, 958, 960, 961, 964, 965, 966, 967, 970, 972, 973, 975, 976, 977, 978, 979, 980, 981, 982, 983, 985, 986, 988, 990, 993, 995, 997, 998, 999, 1002, 1003, 1004]\n"
     ]
    }
   ],
   "source": [
    "non_management_nodes = [node_detail[0] for node_detail in list(G.nodes(data=True)) if node_detail[1][\"ManagementSalary\"] == 0]\n",
    "print(non_management_nodes)"
   ]
  },
  {
   "cell_type": "code",
   "execution_count": 17,
   "metadata": {},
   "outputs": [
    {
     "name": "stdout",
     "output_type": "stream",
     "text": [
      "[1, 2, 5, 8, 14, 18, 27, 30, 31, 34, 37, 40, 45, 54, 55, 60, 62, 65, 77, 79, 97, 101, 103, 108, 113, 122, 141, 142, 144, 145, 150, 154, 158, 175, 181, 193, 196, 200, 202, 204, 214, 215, 230, 231, 236, 239, 240, 247, 249, 251, 252, 253, 255, 261, 262, 264, 266, 267, 270, 271, 272, 278, 279, 283, 294, 295, 298, 299, 306, 308, 310, 311, 312, 315, 316, 317, 319, 320, 331, 342, 351, 352, 356, 362, 363, 366, 367, 372, 380, 382, 384, 385, 386, 389, 395, 399, 402, 406, 408, 409, 412, 420, 434, 435, 443, 447, 451, 456, 457, 458, 465, 466, 471, 477, 482, 483, 484, 485, 487, 492, 494, 496, 500, 503, 505, 513, 516, 518, 520, 522, 524, 529, 530, 531, 533, 538, 545, 557, 571, 578, 582, 583, 602, 604, 605, 612, 613, 615, 625, 636, 640, 641, 646, 647, 651, 655, 656, 664, 666, 669, 670, 671, 676, 678, 682, 683, 685, 691, 708, 710, 713, 717, 720, 725, 729, 736, 738, 741, 742, 743, 748, 758, 760, 764, 765, 766, 768, 773, 776, 783, 786, 787, 788, 789, 798, 799, 800, 808, 817, 818, 819, 820, 822, 825, 826, 829, 837, 858, 863, 864, 865, 866, 867, 871, 877, 879, 886, 890, 892, 899, 911, 912, 913, 914, 915, 918, 923, 926, 931, 934, 939, 944, 945, 947, 950, 951, 953, 959, 962, 963, 968, 969, 974, 984, 987, 989, 991, 992, 994, 996, 1000, 1001]\n"
     ]
    }
   ],
   "source": [
    "nan_nodes = [node_detail[0] for node_detail in list(G.nodes(data=True)) if np.isnan(node_detail[1][\"ManagementSalary\"])]\n",
    "print(nan_nodes)"
   ]
  },
  {
   "cell_type": "code",
   "execution_count": 18,
   "metadata": {},
   "outputs": [],
   "source": [
    "def get_management_neighbour_count(node_id):\n",
    "    neighbours = set(list(G.neighbors(node_id)))\n",
    "    management_count = len(neighbours.intersection(management_nodes))\n",
    "    return management_count\n",
    "    "
   ]
  },
  {
   "cell_type": "code",
   "execution_count": 19,
   "metadata": {},
   "outputs": [],
   "source": [
    "def get_nonmanagement_neighbour_count(node_id):\n",
    "    neighbours = set(list(G.neighbors(node_id)))\n",
    "    non_management_count = len(neighbours.intersection(non_management_nodes))\n",
    "    return non_management_count"
   ]
  },
  {
   "cell_type": "code",
   "execution_count": 20,
   "metadata": {},
   "outputs": [
    {
     "data": {
      "text/html": [
       "<div>\n",
       "<style scoped>\n",
       "    .dataframe tbody tr th:only-of-type {\n",
       "        vertical-align: middle;\n",
       "    }\n",
       "\n",
       "    .dataframe tbody tr th {\n",
       "        vertical-align: top;\n",
       "    }\n",
       "\n",
       "    .dataframe thead th {\n",
       "        text-align: right;\n",
       "    }\n",
       "</style>\n",
       "<table border=\"1\" class=\"dataframe\">\n",
       "  <thead>\n",
       "    <tr style=\"text-align: right;\">\n",
       "      <th></th>\n",
       "      <th>Department</th>\n",
       "      <th>ManagementSalary</th>\n",
       "      <th>clustering</th>\n",
       "      <th>degree</th>\n",
       "      <th>management_neighbours_count</th>\n",
       "      <th>management_neighbours_pct</th>\n",
       "      <th>nonmanagement_neighbours_count</th>\n",
       "      <th>nonmanagement_neighbours_pct</th>\n",
       "    </tr>\n",
       "  </thead>\n",
       "  <tbody>\n",
       "    <tr>\n",
       "      <th>0</th>\n",
       "      <td>1</td>\n",
       "      <td>0.0</td>\n",
       "      <td>0.276423</td>\n",
       "      <td>44</td>\n",
       "      <td>6</td>\n",
       "      <td>0.136364</td>\n",
       "      <td>26</td>\n",
       "      <td>0.590909</td>\n",
       "    </tr>\n",
       "    <tr>\n",
       "      <th>1</th>\n",
       "      <td>1</td>\n",
       "      <td>NaN</td>\n",
       "      <td>0.265306</td>\n",
       "      <td>52</td>\n",
       "      <td>15</td>\n",
       "      <td>0.288462</td>\n",
       "      <td>27</td>\n",
       "      <td>0.519231</td>\n",
       "    </tr>\n",
       "    <tr>\n",
       "      <th>2</th>\n",
       "      <td>21</td>\n",
       "      <td>NaN</td>\n",
       "      <td>0.297803</td>\n",
       "      <td>95</td>\n",
       "      <td>31</td>\n",
       "      <td>0.326316</td>\n",
       "      <td>34</td>\n",
       "      <td>0.357895</td>\n",
       "    </tr>\n",
       "    <tr>\n",
       "      <th>3</th>\n",
       "      <td>21</td>\n",
       "      <td>1.0</td>\n",
       "      <td>0.384910</td>\n",
       "      <td>71</td>\n",
       "      <td>24</td>\n",
       "      <td>0.338028</td>\n",
       "      <td>25</td>\n",
       "      <td>0.352113</td>\n",
       "    </tr>\n",
       "    <tr>\n",
       "      <th>4</th>\n",
       "      <td>21</td>\n",
       "      <td>1.0</td>\n",
       "      <td>0.318691</td>\n",
       "      <td>96</td>\n",
       "      <td>35</td>\n",
       "      <td>0.364583</td>\n",
       "      <td>36</td>\n",
       "      <td>0.375000</td>\n",
       "    </tr>\n",
       "    <tr>\n",
       "      <th>...</th>\n",
       "      <td>...</td>\n",
       "      <td>...</td>\n",
       "      <td>...</td>\n",
       "      <td>...</td>\n",
       "      <td>...</td>\n",
       "      <td>...</td>\n",
       "      <td>...</td>\n",
       "      <td>...</td>\n",
       "    </tr>\n",
       "    <tr>\n",
       "      <th>1000</th>\n",
       "      <td>4</td>\n",
       "      <td>NaN</td>\n",
       "      <td>0.600000</td>\n",
       "      <td>6</td>\n",
       "      <td>3</td>\n",
       "      <td>0.500000</td>\n",
       "      <td>1</td>\n",
       "      <td>0.166667</td>\n",
       "    </tr>\n",
       "    <tr>\n",
       "      <th>1001</th>\n",
       "      <td>21</td>\n",
       "      <td>NaN</td>\n",
       "      <td>0.844444</td>\n",
       "      <td>10</td>\n",
       "      <td>3</td>\n",
       "      <td>0.300000</td>\n",
       "      <td>4</td>\n",
       "      <td>0.400000</td>\n",
       "    </tr>\n",
       "    <tr>\n",
       "      <th>1002</th>\n",
       "      <td>1</td>\n",
       "      <td>0.0</td>\n",
       "      <td>0.000000</td>\n",
       "      <td>1</td>\n",
       "      <td>1</td>\n",
       "      <td>1.000000</td>\n",
       "      <td>0</td>\n",
       "      <td>0.000000</td>\n",
       "    </tr>\n",
       "    <tr>\n",
       "      <th>1003</th>\n",
       "      <td>6</td>\n",
       "      <td>0.0</td>\n",
       "      <td>0.000000</td>\n",
       "      <td>1</td>\n",
       "      <td>0</td>\n",
       "      <td>0.000000</td>\n",
       "      <td>1</td>\n",
       "      <td>1.000000</td>\n",
       "    </tr>\n",
       "    <tr>\n",
       "      <th>1004</th>\n",
       "      <td>22</td>\n",
       "      <td>0.0</td>\n",
       "      <td>0.000000</td>\n",
       "      <td>1</td>\n",
       "      <td>0</td>\n",
       "      <td>0.000000</td>\n",
       "      <td>0</td>\n",
       "      <td>0.000000</td>\n",
       "    </tr>\n",
       "  </tbody>\n",
       "</table>\n",
       "<p>1005 rows × 8 columns</p>\n",
       "</div>"
      ],
      "text/plain": [
       "      Department  ManagementSalary  clustering  degree  \\\n",
       "0              1               0.0    0.276423      44   \n",
       "1              1               NaN    0.265306      52   \n",
       "2             21               NaN    0.297803      95   \n",
       "3             21               1.0    0.384910      71   \n",
       "4             21               1.0    0.318691      96   \n",
       "...          ...               ...         ...     ...   \n",
       "1000           4               NaN    0.600000       6   \n",
       "1001          21               NaN    0.844444      10   \n",
       "1002           1               0.0    0.000000       1   \n",
       "1003           6               0.0    0.000000       1   \n",
       "1004          22               0.0    0.000000       1   \n",
       "\n",
       "      management_neighbours_count  management_neighbours_pct  \\\n",
       "0                               6                   0.136364   \n",
       "1                              15                   0.288462   \n",
       "2                              31                   0.326316   \n",
       "3                              24                   0.338028   \n",
       "4                              35                   0.364583   \n",
       "...                           ...                        ...   \n",
       "1000                            3                   0.500000   \n",
       "1001                            3                   0.300000   \n",
       "1002                            1                   1.000000   \n",
       "1003                            0                   0.000000   \n",
       "1004                            0                   0.000000   \n",
       "\n",
       "      nonmanagement_neighbours_count  nonmanagement_neighbours_pct  \n",
       "0                                 26                      0.590909  \n",
       "1                                 27                      0.519231  \n",
       "2                                 34                      0.357895  \n",
       "3                                 25                      0.352113  \n",
       "4                                 36                      0.375000  \n",
       "...                              ...                           ...  \n",
       "1000                               1                      0.166667  \n",
       "1001                               4                      0.400000  \n",
       "1002                               0                      0.000000  \n",
       "1003                               1                      1.000000  \n",
       "1004                               0                      0.000000  \n",
       "\n",
       "[1005 rows x 8 columns]"
      ]
     },
     "execution_count": 20,
     "metadata": {},
     "output_type": "execute_result"
    }
   ],
   "source": [
    "df[\"management_neighbours_count\"] = pd.Series(dict(map(lambda x: (x, get_management_neighbour_count(x)), list(df.index))))\n",
    "df[\"management_neighbours_pct\"] = df[\"management_neighbours_count\"]/ df[\"degree\"]\n",
    "df[\"nonmanagement_neighbours_count\"] = pd.Series(dict(map(lambda x: (x, get_nonmanagement_neighbour_count(x)), list(df.index))))\n",
    "df[\"nonmanagement_neighbours_pct\"] = df[\"nonmanagement_neighbours_count\"]/ df[\"degree\"]\n",
    "df"
   ]
  },
  {
   "cell_type": "markdown",
   "metadata": {},
   "source": [
    "### Understanding the neighbours linked with managers"
   ]
  },
  {
   "cell_type": "code",
   "execution_count": 21,
   "metadata": {},
   "outputs": [
    {
     "data": {
      "application/vnd.jupyter.widget-view+json": {
       "model_id": "4c420e1aa3ea464f88d81241bfc63a93",
       "version_major": 2,
       "version_minor": 0
      },
      "text/plain": [
       "Canvas(toolbar=Toolbar(toolitems=[('Home', 'Reset original view', 'home', 'home'), ('Back', 'Back to previous …"
      ]
     },
     "metadata": {},
     "output_type": "display_data"
    }
   ],
   "source": [
    "f, (ax1,ax2) = plt.subplots(1, 2, sharey=True, sharex = True)\n",
    "pd.plotting.hist_frame(df[df[\"ManagementSalary\"] == 1],\"management_neighbours_pct\" , ax=ax1,density=True,)\n",
    "ax1.set_title(\"ManagementSalary == 1\")\n",
    "pd.plotting.hist_frame(df[df[\"ManagementSalary\"] == 0], \"management_neighbours_pct\", ax=ax2, density=True)\n",
    "ax2.set_title(\"ManagementSalary == 0\")\n",
    "f.suptitle(\"Distribution of management neighbours as percentage of node degree\")\n",
    "plt.show()"
   ]
  },
  {
   "cell_type": "code",
   "execution_count": 22,
   "metadata": {},
   "outputs": [
    {
     "data": {
      "application/vnd.jupyter.widget-view+json": {
       "model_id": "2a57cee63041413e856fd44f94d61474",
       "version_major": 2,
       "version_minor": 0
      },
      "text/plain": [
       "Canvas(toolbar=Toolbar(toolitems=[('Home', 'Reset original view', 'home', 'home'), ('Back', 'Back to previous …"
      ]
     },
     "metadata": {},
     "output_type": "display_data"
    }
   ],
   "source": [
    "f, (ax1,ax2) = plt.subplots(1, 2, sharey=True, sharex = True)\n",
    "pd.plotting.hist_frame(df[df[\"ManagementSalary\"] == 1],\"nonmanagement_neighbours_pct\" , ax=ax1,density=True,)\n",
    "ax1.set_title(\"ManagementSalary == 1\")\n",
    "pd.plotting.hist_frame(df[df[\"ManagementSalary\"] == 0], \"nonmanagement_neighbours_pct\", ax=ax2, density=True)\n",
    "ax2.set_title(\"ManagementSalary == 0\")\n",
    "f.suptitle(\"Distribution of non-management neighbours as percentage of node degree\")\n",
    "plt.show()"
   ]
  },
  {
   "cell_type": "markdown",
   "metadata": {},
   "source": [
    "### Understanding the centrality scores of the nodes"
   ]
  },
  {
   "cell_type": "markdown",
   "metadata": {},
   "source": [
    "* _Closeness Centrality_ gives  the reciprocal of the average shortest path distance to `u` over all `n-1` reachable nodes\n",
    "\n",
    "* _Betweenness centrality_ of a node $v$ is the sum of the\n",
    "fraction of all-pairs shortest paths that pass through $v$ $ c_B(v) =\\sum_{s,t \\in V} \\frac{\\sigma(s, t|v)}{\\sigma(s, t)} $ where $V$ is the set of nodes, $\\sigma(s, t)$ is the number of shortest $(s, t)$-paths,  and $\\sigma(s, t|v)$ is the number of those paths  passing through some  node $v$ other than $s, t$.\n",
    "If $s = t$, $\\sigma(s, t) = 1$, and if $v \\in {s, t}$, $\\sigma(s, t|v) = 0$ ."
   ]
  },
  {
   "cell_type": "code",
   "execution_count": 23,
   "metadata": {},
   "outputs": [],
   "source": [
    "df[\"betweenness_centrality\"] = pd.Series(nx.betweenness_centrality(G))\n",
    "df[\"closeness_centrality\"] = pd.Series(nx.closeness_centrality(G))"
   ]
  },
  {
   "cell_type": "code",
   "execution_count": 24,
   "metadata": {},
   "outputs": [
    {
     "data": {
      "text/html": [
       "<div>\n",
       "<style scoped>\n",
       "    .dataframe tbody tr th:only-of-type {\n",
       "        vertical-align: middle;\n",
       "    }\n",
       "\n",
       "    .dataframe tbody tr th {\n",
       "        vertical-align: top;\n",
       "    }\n",
       "\n",
       "    .dataframe thead th {\n",
       "        text-align: right;\n",
       "    }\n",
       "</style>\n",
       "<table border=\"1\" class=\"dataframe\">\n",
       "  <thead>\n",
       "    <tr style=\"text-align: right;\">\n",
       "      <th></th>\n",
       "      <th>Department</th>\n",
       "      <th>ManagementSalary</th>\n",
       "      <th>clustering</th>\n",
       "      <th>degree</th>\n",
       "      <th>management_neighbours_count</th>\n",
       "      <th>management_neighbours_pct</th>\n",
       "      <th>nonmanagement_neighbours_count</th>\n",
       "      <th>nonmanagement_neighbours_pct</th>\n",
       "      <th>betweenness_centrality</th>\n",
       "      <th>closeness_centrality</th>\n",
       "      <th>hubs</th>\n",
       "      <th>authorities</th>\n",
       "    </tr>\n",
       "  </thead>\n",
       "  <tbody>\n",
       "    <tr>\n",
       "      <th>0</th>\n",
       "      <td>1</td>\n",
       "      <td>0.0</td>\n",
       "      <td>0.276423</td>\n",
       "      <td>44</td>\n",
       "      <td>6</td>\n",
       "      <td>0.136364</td>\n",
       "      <td>26</td>\n",
       "      <td>0.590909</td>\n",
       "      <td>0.001124</td>\n",
       "      <td>0.421991</td>\n",
       "      <td>0.000944</td>\n",
       "      <td>0.000944</td>\n",
       "    </tr>\n",
       "    <tr>\n",
       "      <th>1</th>\n",
       "      <td>1</td>\n",
       "      <td>NaN</td>\n",
       "      <td>0.265306</td>\n",
       "      <td>52</td>\n",
       "      <td>15</td>\n",
       "      <td>0.288462</td>\n",
       "      <td>27</td>\n",
       "      <td>0.519231</td>\n",
       "      <td>0.001195</td>\n",
       "      <td>0.422360</td>\n",
       "      <td>0.001472</td>\n",
       "      <td>0.001472</td>\n",
       "    </tr>\n",
       "    <tr>\n",
       "      <th>2</th>\n",
       "      <td>21</td>\n",
       "      <td>NaN</td>\n",
       "      <td>0.297803</td>\n",
       "      <td>95</td>\n",
       "      <td>31</td>\n",
       "      <td>0.326316</td>\n",
       "      <td>34</td>\n",
       "      <td>0.357895</td>\n",
       "      <td>0.006570</td>\n",
       "      <td>0.461490</td>\n",
       "      <td>0.002680</td>\n",
       "      <td>0.002680</td>\n",
       "    </tr>\n",
       "    <tr>\n",
       "      <th>3</th>\n",
       "      <td>21</td>\n",
       "      <td>1.0</td>\n",
       "      <td>0.384910</td>\n",
       "      <td>71</td>\n",
       "      <td>24</td>\n",
       "      <td>0.338028</td>\n",
       "      <td>25</td>\n",
       "      <td>0.352113</td>\n",
       "      <td>0.001654</td>\n",
       "      <td>0.441663</td>\n",
       "      <td>0.002369</td>\n",
       "      <td>0.002369</td>\n",
       "    </tr>\n",
       "    <tr>\n",
       "      <th>4</th>\n",
       "      <td>21</td>\n",
       "      <td>1.0</td>\n",
       "      <td>0.318691</td>\n",
       "      <td>96</td>\n",
       "      <td>35</td>\n",
       "      <td>0.364583</td>\n",
       "      <td>36</td>\n",
       "      <td>0.375000</td>\n",
       "      <td>0.005547</td>\n",
       "      <td>0.462152</td>\n",
       "      <td>0.003055</td>\n",
       "      <td>0.003055</td>\n",
       "    </tr>\n",
       "    <tr>\n",
       "      <th>...</th>\n",
       "      <td>...</td>\n",
       "      <td>...</td>\n",
       "      <td>...</td>\n",
       "      <td>...</td>\n",
       "      <td>...</td>\n",
       "      <td>...</td>\n",
       "      <td>...</td>\n",
       "      <td>...</td>\n",
       "      <td>...</td>\n",
       "      <td>...</td>\n",
       "      <td>...</td>\n",
       "      <td>...</td>\n",
       "    </tr>\n",
       "    <tr>\n",
       "      <th>1000</th>\n",
       "      <td>4</td>\n",
       "      <td>NaN</td>\n",
       "      <td>0.600000</td>\n",
       "      <td>6</td>\n",
       "      <td>3</td>\n",
       "      <td>0.500000</td>\n",
       "      <td>1</td>\n",
       "      <td>0.166667</td>\n",
       "      <td>0.000004</td>\n",
       "      <td>0.355934</td>\n",
       "      <td>0.000161</td>\n",
       "      <td>0.000161</td>\n",
       "    </tr>\n",
       "    <tr>\n",
       "      <th>1001</th>\n",
       "      <td>21</td>\n",
       "      <td>NaN</td>\n",
       "      <td>0.844444</td>\n",
       "      <td>10</td>\n",
       "      <td>3</td>\n",
       "      <td>0.300000</td>\n",
       "      <td>4</td>\n",
       "      <td>0.400000</td>\n",
       "      <td>0.000004</td>\n",
       "      <td>0.339789</td>\n",
       "      <td>0.000194</td>\n",
       "      <td>0.000194</td>\n",
       "    </tr>\n",
       "    <tr>\n",
       "      <th>1002</th>\n",
       "      <td>1</td>\n",
       "      <td>0.0</td>\n",
       "      <td>0.000000</td>\n",
       "      <td>1</td>\n",
       "      <td>1</td>\n",
       "      <td>1.000000</td>\n",
       "      <td>0</td>\n",
       "      <td>0.000000</td>\n",
       "      <td>0.000000</td>\n",
       "      <td>0.297983</td>\n",
       "      <td>0.000017</td>\n",
       "      <td>0.000017</td>\n",
       "    </tr>\n",
       "    <tr>\n",
       "      <th>1003</th>\n",
       "      <td>6</td>\n",
       "      <td>0.0</td>\n",
       "      <td>0.000000</td>\n",
       "      <td>1</td>\n",
       "      <td>0</td>\n",
       "      <td>0.000000</td>\n",
       "      <td>1</td>\n",
       "      <td>1.000000</td>\n",
       "      <td>0.000000</td>\n",
       "      <td>0.298167</td>\n",
       "      <td>0.000024</td>\n",
       "      <td>0.000024</td>\n",
       "    </tr>\n",
       "    <tr>\n",
       "      <th>1004</th>\n",
       "      <td>22</td>\n",
       "      <td>0.0</td>\n",
       "      <td>0.000000</td>\n",
       "      <td>1</td>\n",
       "      <td>0</td>\n",
       "      <td>0.000000</td>\n",
       "      <td>0</td>\n",
       "      <td>0.000000</td>\n",
       "      <td>0.000000</td>\n",
       "      <td>0.295975</td>\n",
       "      <td>0.000017</td>\n",
       "      <td>0.000017</td>\n",
       "    </tr>\n",
       "  </tbody>\n",
       "</table>\n",
       "<p>1005 rows × 12 columns</p>\n",
       "</div>"
      ],
      "text/plain": [
       "      Department  ManagementSalary  clustering  degree  \\\n",
       "0              1               0.0    0.276423      44   \n",
       "1              1               NaN    0.265306      52   \n",
       "2             21               NaN    0.297803      95   \n",
       "3             21               1.0    0.384910      71   \n",
       "4             21               1.0    0.318691      96   \n",
       "...          ...               ...         ...     ...   \n",
       "1000           4               NaN    0.600000       6   \n",
       "1001          21               NaN    0.844444      10   \n",
       "1002           1               0.0    0.000000       1   \n",
       "1003           6               0.0    0.000000       1   \n",
       "1004          22               0.0    0.000000       1   \n",
       "\n",
       "      management_neighbours_count  management_neighbours_pct  \\\n",
       "0                               6                   0.136364   \n",
       "1                              15                   0.288462   \n",
       "2                              31                   0.326316   \n",
       "3                              24                   0.338028   \n",
       "4                              35                   0.364583   \n",
       "...                           ...                        ...   \n",
       "1000                            3                   0.500000   \n",
       "1001                            3                   0.300000   \n",
       "1002                            1                   1.000000   \n",
       "1003                            0                   0.000000   \n",
       "1004                            0                   0.000000   \n",
       "\n",
       "      nonmanagement_neighbours_count  nonmanagement_neighbours_pct  \\\n",
       "0                                 26                      0.590909   \n",
       "1                                 27                      0.519231   \n",
       "2                                 34                      0.357895   \n",
       "3                                 25                      0.352113   \n",
       "4                                 36                      0.375000   \n",
       "...                              ...                           ...   \n",
       "1000                               1                      0.166667   \n",
       "1001                               4                      0.400000   \n",
       "1002                               0                      0.000000   \n",
       "1003                               1                      1.000000   \n",
       "1004                               0                      0.000000   \n",
       "\n",
       "      betweenness_centrality  closeness_centrality      hubs  authorities  \n",
       "0                   0.001124              0.421991  0.000944     0.000944  \n",
       "1                   0.001195              0.422360  0.001472     0.001472  \n",
       "2                   0.006570              0.461490  0.002680     0.002680  \n",
       "3                   0.001654              0.441663  0.002369     0.002369  \n",
       "4                   0.005547              0.462152  0.003055     0.003055  \n",
       "...                      ...                   ...       ...          ...  \n",
       "1000                0.000004              0.355934  0.000161     0.000161  \n",
       "1001                0.000004              0.339789  0.000194     0.000194  \n",
       "1002                0.000000              0.297983  0.000017     0.000017  \n",
       "1003                0.000000              0.298167  0.000024     0.000024  \n",
       "1004                0.000000              0.295975  0.000017     0.000017  \n",
       "\n",
       "[1005 rows x 12 columns]"
      ]
     },
     "execution_count": 24,
     "metadata": {},
     "output_type": "execute_result"
    }
   ],
   "source": [
    "hubs, authorities = nx.hits(G)\n",
    "df[\"hubs\"] = pd.Series(hubs)\n",
    "df[\"authorities\"] = pd.Series(authorities)\n",
    "df"
   ]
  },
  {
   "cell_type": "code",
   "execution_count": 25,
   "metadata": {},
   "outputs": [],
   "source": [
    "def plot_comparison(column_name, title):\n",
    "    f, (ax1,ax2) = plt.subplots(1, 2, sharey=True, sharex = True)\n",
    "    pd.plotting.hist_frame(df[df[\"ManagementSalary\"] == 1],column_name , ax=ax1,density=True,)\n",
    "    ax1.set_title(\"ManagementSalary == 1\")\n",
    "    pd.plotting.hist_frame(df[df[\"ManagementSalary\"] == 0], column_name, ax=ax2, density=True)\n",
    "    ax2.set_title(\"ManagementSalary == 0\")\n",
    "    f.suptitle(title)\n",
    "    plt.show()"
   ]
  },
  {
   "cell_type": "code",
   "execution_count": 26,
   "metadata": {},
   "outputs": [
    {
     "data": {
      "application/vnd.jupyter.widget-view+json": {
       "model_id": "7f865b11bd86494a84ac3b2353932554",
       "version_major": 2,
       "version_minor": 0
      },
      "text/plain": [
       "Canvas(toolbar=Toolbar(toolitems=[('Home', 'Reset original view', 'home', 'home'), ('Back', 'Back to previous …"
      ]
     },
     "metadata": {},
     "output_type": "display_data"
    }
   ],
   "source": [
    "plot_comparison(column_name=\"betweenness_centrality\",title=\"Distribution of betweennness centrality\")"
   ]
  },
  {
   "cell_type": "code",
   "execution_count": 27,
   "metadata": {},
   "outputs": [
    {
     "data": {
      "application/vnd.jupyter.widget-view+json": {
       "model_id": "5ddd9fb90e64434aa2d4a5620851a67e",
       "version_major": 2,
       "version_minor": 0
      },
      "text/plain": [
       "Canvas(toolbar=Toolbar(toolitems=[('Home', 'Reset original view', 'home', 'home'), ('Back', 'Back to previous …"
      ]
     },
     "metadata": {},
     "output_type": "display_data"
    }
   ],
   "source": [
    "plot_comparison(column_name=\"closeness_centrality\",title=\"Distribution of closeness centrality\")"
   ]
  },
  {
   "cell_type": "code",
   "execution_count": 28,
   "metadata": {},
   "outputs": [
    {
     "data": {
      "application/vnd.jupyter.widget-view+json": {
       "model_id": "a7d065319e8244ceadc5babd419c7bf0",
       "version_major": 2,
       "version_minor": 0
      },
      "text/plain": [
       "Canvas(toolbar=Toolbar(toolitems=[('Home', 'Reset original view', 'home', 'home'), ('Back', 'Back to previous …"
      ]
     },
     "metadata": {},
     "output_type": "display_data"
    }
   ],
   "source": [
    "plot_comparison(column_name=\"hubs\",title=\"Distribution of hub score\")"
   ]
  },
  {
   "cell_type": "code",
   "execution_count": 29,
   "metadata": {},
   "outputs": [
    {
     "data": {
      "application/vnd.jupyter.widget-view+json": {
       "model_id": "001b67abb8a840538a54c8f03f094a4b",
       "version_major": 2,
       "version_minor": 0
      },
      "text/plain": [
       "Canvas(toolbar=Toolbar(toolitems=[('Home', 'Reset original view', 'home', 'home'), ('Back', 'Back to previous …"
      ]
     },
     "metadata": {},
     "output_type": "display_data"
    }
   ],
   "source": [
    "plot_comparison(column_name=\"authorities\",title=\"Distribution of authorities score\")"
   ]
  },
  {
   "cell_type": "code",
   "execution_count": 30,
   "metadata": {},
   "outputs": [
    {
     "data": {
      "text/html": [
       "<div>\n",
       "<style scoped>\n",
       "    .dataframe tbody tr th:only-of-type {\n",
       "        vertical-align: middle;\n",
       "    }\n",
       "\n",
       "    .dataframe tbody tr th {\n",
       "        vertical-align: top;\n",
       "    }\n",
       "\n",
       "    .dataframe thead th {\n",
       "        text-align: right;\n",
       "    }\n",
       "</style>\n",
       "<table border=\"1\" class=\"dataframe\">\n",
       "  <thead>\n",
       "    <tr style=\"text-align: right;\">\n",
       "      <th></th>\n",
       "      <th>Department</th>\n",
       "      <th>ManagementSalary</th>\n",
       "      <th>clustering</th>\n",
       "      <th>degree</th>\n",
       "      <th>management_neighbours_count</th>\n",
       "      <th>management_neighbours_pct</th>\n",
       "      <th>nonmanagement_neighbours_count</th>\n",
       "      <th>nonmanagement_neighbours_pct</th>\n",
       "      <th>betweenness_centrality</th>\n",
       "      <th>closeness_centrality</th>\n",
       "      <th>hubs</th>\n",
       "      <th>authorities</th>\n",
       "    </tr>\n",
       "  </thead>\n",
       "  <tbody>\n",
       "    <tr>\n",
       "      <th>count</th>\n",
       "      <td>119.000000</td>\n",
       "      <td>119.0</td>\n",
       "      <td>119.000000</td>\n",
       "      <td>119.000000</td>\n",
       "      <td>119.000000</td>\n",
       "      <td>119.000000</td>\n",
       "      <td>119.000000</td>\n",
       "      <td>119.000000</td>\n",
       "      <td>119.000000</td>\n",
       "      <td>119.000000</td>\n",
       "      <td>119.000000</td>\n",
       "      <td>119.000000</td>\n",
       "    </tr>\n",
       "    <tr>\n",
       "      <th>mean</th>\n",
       "      <td>17.680672</td>\n",
       "      <td>1.0</td>\n",
       "      <td>0.382361</td>\n",
       "      <td>81.941176</td>\n",
       "      <td>26.344538</td>\n",
       "      <td>0.353486</td>\n",
       "      <td>35.680672</td>\n",
       "      <td>0.411299</td>\n",
       "      <td>0.006493</td>\n",
       "      <td>0.446433</td>\n",
       "      <td>0.002658</td>\n",
       "      <td>0.002658</td>\n",
       "    </tr>\n",
       "    <tr>\n",
       "      <th>std</th>\n",
       "      <td>10.914097</td>\n",
       "      <td>0.0</td>\n",
       "      <td>0.204973</td>\n",
       "      <td>58.125856</td>\n",
       "      <td>17.673324</td>\n",
       "      <td>0.128720</td>\n",
       "      <td>28.343514</td>\n",
       "      <td>0.108583</td>\n",
       "      <td>0.010271</td>\n",
       "      <td>0.042038</td>\n",
       "      <td>0.001812</td>\n",
       "      <td>0.001812</td>\n",
       "    </tr>\n",
       "    <tr>\n",
       "      <th>min</th>\n",
       "      <td>0.000000</td>\n",
       "      <td>1.0</td>\n",
       "      <td>0.054423</td>\n",
       "      <td>2.000000</td>\n",
       "      <td>1.000000</td>\n",
       "      <td>0.083333</td>\n",
       "      <td>0.000000</td>\n",
       "      <td>0.000000</td>\n",
       "      <td>0.000000</td>\n",
       "      <td>0.306198</td>\n",
       "      <td>0.000030</td>\n",
       "      <td>0.000030</td>\n",
       "    </tr>\n",
       "    <tr>\n",
       "      <th>25%</th>\n",
       "      <td>10.000000</td>\n",
       "      <td>1.0</td>\n",
       "      <td>0.249020</td>\n",
       "      <td>38.000000</td>\n",
       "      <td>13.000000</td>\n",
       "      <td>0.293774</td>\n",
       "      <td>14.500000</td>\n",
       "      <td>0.366750</td>\n",
       "      <td>0.000536</td>\n",
       "      <td>0.423842</td>\n",
       "      <td>0.001318</td>\n",
       "      <td>0.001318</td>\n",
       "    </tr>\n",
       "    <tr>\n",
       "      <th>50%</th>\n",
       "      <td>15.000000</td>\n",
       "      <td>1.0</td>\n",
       "      <td>0.335484</td>\n",
       "      <td>63.000000</td>\n",
       "      <td>22.000000</td>\n",
       "      <td>0.333333</td>\n",
       "      <td>25.000000</td>\n",
       "      <td>0.415929</td>\n",
       "      <td>0.004163</td>\n",
       "      <td>0.443081</td>\n",
       "      <td>0.002235</td>\n",
       "      <td>0.002235</td>\n",
       "    </tr>\n",
       "    <tr>\n",
       "      <th>75%</th>\n",
       "      <td>25.500000</td>\n",
       "      <td>1.0</td>\n",
       "      <td>0.461247</td>\n",
       "      <td>119.500000</td>\n",
       "      <td>37.000000</td>\n",
       "      <td>0.390390</td>\n",
       "      <td>52.000000</td>\n",
       "      <td>0.473684</td>\n",
       "      <td>0.008093</td>\n",
       "      <td>0.475688</td>\n",
       "      <td>0.003911</td>\n",
       "      <td>0.003911</td>\n",
       "    </tr>\n",
       "    <tr>\n",
       "      <th>max</th>\n",
       "      <td>38.000000</td>\n",
       "      <td>1.0</td>\n",
       "      <td>1.000000</td>\n",
       "      <td>347.000000</td>\n",
       "      <td>94.000000</td>\n",
       "      <td>1.000000</td>\n",
       "      <td>164.000000</td>\n",
       "      <td>0.714286</td>\n",
       "      <td>0.087415</td>\n",
       "      <td>0.573848</td>\n",
       "      <td>0.008370</td>\n",
       "      <td>0.008370</td>\n",
       "    </tr>\n",
       "  </tbody>\n",
       "</table>\n",
       "</div>"
      ],
      "text/plain": [
       "       Department  ManagementSalary  clustering      degree  \\\n",
       "count  119.000000             119.0  119.000000  119.000000   \n",
       "mean    17.680672               1.0    0.382361   81.941176   \n",
       "std     10.914097               0.0    0.204973   58.125856   \n",
       "min      0.000000               1.0    0.054423    2.000000   \n",
       "25%     10.000000               1.0    0.249020   38.000000   \n",
       "50%     15.000000               1.0    0.335484   63.000000   \n",
       "75%     25.500000               1.0    0.461247  119.500000   \n",
       "max     38.000000               1.0    1.000000  347.000000   \n",
       "\n",
       "       management_neighbours_count  management_neighbours_pct  \\\n",
       "count                   119.000000                 119.000000   \n",
       "mean                     26.344538                   0.353486   \n",
       "std                      17.673324                   0.128720   \n",
       "min                       1.000000                   0.083333   \n",
       "25%                      13.000000                   0.293774   \n",
       "50%                      22.000000                   0.333333   \n",
       "75%                      37.000000                   0.390390   \n",
       "max                      94.000000                   1.000000   \n",
       "\n",
       "       nonmanagement_neighbours_count  nonmanagement_neighbours_pct  \\\n",
       "count                      119.000000                    119.000000   \n",
       "mean                        35.680672                      0.411299   \n",
       "std                         28.343514                      0.108583   \n",
       "min                          0.000000                      0.000000   \n",
       "25%                         14.500000                      0.366750   \n",
       "50%                         25.000000                      0.415929   \n",
       "75%                         52.000000                      0.473684   \n",
       "max                        164.000000                      0.714286   \n",
       "\n",
       "       betweenness_centrality  closeness_centrality        hubs  authorities  \n",
       "count              119.000000            119.000000  119.000000   119.000000  \n",
       "mean                 0.006493              0.446433    0.002658     0.002658  \n",
       "std                  0.010271              0.042038    0.001812     0.001812  \n",
       "min                  0.000000              0.306198    0.000030     0.000030  \n",
       "25%                  0.000536              0.423842    0.001318     0.001318  \n",
       "50%                  0.004163              0.443081    0.002235     0.002235  \n",
       "75%                  0.008093              0.475688    0.003911     0.003911  \n",
       "max                  0.087415              0.573848    0.008370     0.008370  "
      ]
     },
     "execution_count": 30,
     "metadata": {},
     "output_type": "execute_result"
    }
   ],
   "source": [
    "df[df[\"ManagementSalary\"] == 1].describe()"
   ]
  },
  {
   "cell_type": "code",
   "execution_count": 31,
   "metadata": {},
   "outputs": [
    {
     "data": {
      "text/html": [
       "<div>\n",
       "<style scoped>\n",
       "    .dataframe tbody tr th:only-of-type {\n",
       "        vertical-align: middle;\n",
       "    }\n",
       "\n",
       "    .dataframe tbody tr th {\n",
       "        vertical-align: top;\n",
       "    }\n",
       "\n",
       "    .dataframe thead th {\n",
       "        text-align: right;\n",
       "    }\n",
       "</style>\n",
       "<table border=\"1\" class=\"dataframe\">\n",
       "  <thead>\n",
       "    <tr style=\"text-align: right;\">\n",
       "      <th></th>\n",
       "      <th>Department</th>\n",
       "      <th>ManagementSalary</th>\n",
       "      <th>clustering</th>\n",
       "      <th>degree</th>\n",
       "      <th>management_neighbours_count</th>\n",
       "      <th>management_neighbours_pct</th>\n",
       "      <th>nonmanagement_neighbours_count</th>\n",
       "      <th>nonmanagement_neighbours_pct</th>\n",
       "      <th>betweenness_centrality</th>\n",
       "      <th>closeness_centrality</th>\n",
       "      <th>hubs</th>\n",
       "      <th>authorities</th>\n",
       "    </tr>\n",
       "  </thead>\n",
       "  <tbody>\n",
       "    <tr>\n",
       "      <th>count</th>\n",
       "      <td>634.000000</td>\n",
       "      <td>634.0</td>\n",
       "      <td>634.000000</td>\n",
       "      <td>634.000000</td>\n",
       "      <td>634.000000</td>\n",
       "      <td>634.000000</td>\n",
       "      <td>634.000000</td>\n",
       "      <td>634.000000</td>\n",
       "      <td>634.000000</td>\n",
       "      <td>634.000000</td>\n",
       "      <td>6.340000e+02</td>\n",
       "      <td>6.340000e+02</td>\n",
       "    </tr>\n",
       "    <tr>\n",
       "      <th>mean</th>\n",
       "      <td>12.996845</td>\n",
       "      <td>0.0</td>\n",
       "      <td>0.397550</td>\n",
       "      <td>24.613565</td>\n",
       "      <td>6.697161</td>\n",
       "      <td>0.283558</td>\n",
       "      <td>11.651420</td>\n",
       "      <td>0.458239</td>\n",
       "      <td>0.000664</td>\n",
       "      <td>0.366926</td>\n",
       "      <td>7.050412e-04</td>\n",
       "      <td>7.050412e-04</td>\n",
       "    </tr>\n",
       "    <tr>\n",
       "      <th>std</th>\n",
       "      <td>9.964391</td>\n",
       "      <td>0.0</td>\n",
       "      <td>0.260008</td>\n",
       "      <td>23.895584</td>\n",
       "      <td>7.943904</td>\n",
       "      <td>0.230709</td>\n",
       "      <td>11.153812</td>\n",
       "      <td>0.216296</td>\n",
       "      <td>0.001135</td>\n",
       "      <td>0.074726</td>\n",
       "      <td>8.324019e-04</td>\n",
       "      <td>8.324019e-04</td>\n",
       "    </tr>\n",
       "    <tr>\n",
       "      <th>min</th>\n",
       "      <td>0.000000</td>\n",
       "      <td>0.0</td>\n",
       "      <td>0.000000</td>\n",
       "      <td>1.000000</td>\n",
       "      <td>0.000000</td>\n",
       "      <td>0.000000</td>\n",
       "      <td>0.000000</td>\n",
       "      <td>0.000000</td>\n",
       "      <td>0.000000</td>\n",
       "      <td>0.000000</td>\n",
       "      <td>6.057999e-60</td>\n",
       "      <td>4.675065e-58</td>\n",
       "    </tr>\n",
       "    <tr>\n",
       "      <th>25%</th>\n",
       "      <td>4.000000</td>\n",
       "      <td>0.0</td>\n",
       "      <td>0.273066</td>\n",
       "      <td>5.000000</td>\n",
       "      <td>1.000000</td>\n",
       "      <td>0.142857</td>\n",
       "      <td>2.000000</td>\n",
       "      <td>0.362648</td>\n",
       "      <td>0.000003</td>\n",
       "      <td>0.336740</td>\n",
       "      <td>1.140876e-04</td>\n",
       "      <td>1.140876e-04</td>\n",
       "    </tr>\n",
       "    <tr>\n",
       "      <th>50%</th>\n",
       "      <td>13.000000</td>\n",
       "      <td>0.0</td>\n",
       "      <td>0.372597</td>\n",
       "      <td>19.000000</td>\n",
       "      <td>4.000000</td>\n",
       "      <td>0.250000</td>\n",
       "      <td>9.000000</td>\n",
       "      <td>0.474547</td>\n",
       "      <td>0.000120</td>\n",
       "      <td>0.376235</td>\n",
       "      <td>4.235229e-04</td>\n",
       "      <td>4.235229e-04</td>\n",
       "    </tr>\n",
       "    <tr>\n",
       "      <th>75%</th>\n",
       "      <td>19.000000</td>\n",
       "      <td>0.0</td>\n",
       "      <td>0.526316</td>\n",
       "      <td>35.000000</td>\n",
       "      <td>9.000000</td>\n",
       "      <td>0.355157</td>\n",
       "      <td>18.000000</td>\n",
       "      <td>0.571429</td>\n",
       "      <td>0.000756</td>\n",
       "      <td>0.412930</td>\n",
       "      <td>9.607271e-04</td>\n",
       "      <td>9.607271e-04</td>\n",
       "    </tr>\n",
       "    <tr>\n",
       "      <th>max</th>\n",
       "      <td>41.000000</td>\n",
       "      <td>0.0</td>\n",
       "      <td>1.000000</td>\n",
       "      <td>129.000000</td>\n",
       "      <td>48.000000</td>\n",
       "      <td>1.000000</td>\n",
       "      <td>54.000000</td>\n",
       "      <td>1.000000</td>\n",
       "      <td>0.005881</td>\n",
       "      <td>0.487568</td>\n",
       "      <td>5.141574e-03</td>\n",
       "      <td>5.141574e-03</td>\n",
       "    </tr>\n",
       "  </tbody>\n",
       "</table>\n",
       "</div>"
      ],
      "text/plain": [
       "       Department  ManagementSalary  clustering      degree  \\\n",
       "count  634.000000             634.0  634.000000  634.000000   \n",
       "mean    12.996845               0.0    0.397550   24.613565   \n",
       "std      9.964391               0.0    0.260008   23.895584   \n",
       "min      0.000000               0.0    0.000000    1.000000   \n",
       "25%      4.000000               0.0    0.273066    5.000000   \n",
       "50%     13.000000               0.0    0.372597   19.000000   \n",
       "75%     19.000000               0.0    0.526316   35.000000   \n",
       "max     41.000000               0.0    1.000000  129.000000   \n",
       "\n",
       "       management_neighbours_count  management_neighbours_pct  \\\n",
       "count                   634.000000                 634.000000   \n",
       "mean                      6.697161                   0.283558   \n",
       "std                       7.943904                   0.230709   \n",
       "min                       0.000000                   0.000000   \n",
       "25%                       1.000000                   0.142857   \n",
       "50%                       4.000000                   0.250000   \n",
       "75%                       9.000000                   0.355157   \n",
       "max                      48.000000                   1.000000   \n",
       "\n",
       "       nonmanagement_neighbours_count  nonmanagement_neighbours_pct  \\\n",
       "count                      634.000000                    634.000000   \n",
       "mean                        11.651420                      0.458239   \n",
       "std                         11.153812                      0.216296   \n",
       "min                          0.000000                      0.000000   \n",
       "25%                          2.000000                      0.362648   \n",
       "50%                          9.000000                      0.474547   \n",
       "75%                         18.000000                      0.571429   \n",
       "max                         54.000000                      1.000000   \n",
       "\n",
       "       betweenness_centrality  closeness_centrality          hubs  \\\n",
       "count              634.000000            634.000000  6.340000e+02   \n",
       "mean                 0.000664              0.366926  7.050412e-04   \n",
       "std                  0.001135              0.074726  8.324019e-04   \n",
       "min                  0.000000              0.000000  6.057999e-60   \n",
       "25%                  0.000003              0.336740  1.140876e-04   \n",
       "50%                  0.000120              0.376235  4.235229e-04   \n",
       "75%                  0.000756              0.412930  9.607271e-04   \n",
       "max                  0.005881              0.487568  5.141574e-03   \n",
       "\n",
       "        authorities  \n",
       "count  6.340000e+02  \n",
       "mean   7.050412e-04  \n",
       "std    8.324019e-04  \n",
       "min    4.675065e-58  \n",
       "25%    1.140876e-04  \n",
       "50%    4.235229e-04  \n",
       "75%    9.607271e-04  \n",
       "max    5.141574e-03  "
      ]
     },
     "execution_count": 31,
     "metadata": {},
     "output_type": "execute_result"
    }
   ],
   "source": [
    "df[df[\"ManagementSalary\"] == 0].describe()"
   ]
  },
  {
   "cell_type": "code",
   "execution_count": 32,
   "metadata": {},
   "outputs": [
    {
     "data": {
      "application/vnd.jupyter.widget-view+json": {
       "model_id": "a61d805e7cff4b33ba78fc7a8e8cb04a",
       "version_major": 2,
       "version_minor": 0
      },
      "text/plain": [
       "Canvas(toolbar=Toolbar(toolitems=[('Home', 'Reset original view', 'home', 'home'), ('Back', 'Back to previous …"
      ]
     },
     "metadata": {},
     "output_type": "display_data"
    }
   ],
   "source": [
    "def plot_scatter_by_management(x,y):\n",
    "    plt.figure()\n",
    "    plt.scatter(df[df[\"ManagementSalary\"] == 0][x],df[df[\"ManagementSalary\"] == 0][y],marker=\"o\", color=\"blue\")\n",
    "    plt.scatter(df[df[\"ManagementSalary\"] == 1][x],df[df[\"ManagementSalary\"] == 1][y],marker=\"*\", color=\"red\")\n",
    "    plt.show()\n",
    "\n",
    "plot_scatter_by_management(\"degree\",\"hubs\")"
   ]
  },
  {
   "cell_type": "code",
   "execution_count": 33,
   "metadata": {},
   "outputs": [
    {
     "data": {
      "application/vnd.jupyter.widget-view+json": {
       "model_id": "7dfc45a35a9a47f7be0ec344f900f6ed",
       "version_major": 2,
       "version_minor": 0
      },
      "text/plain": [
       "Canvas(toolbar=Toolbar(toolitems=[('Home', 'Reset original view', 'home', 'home'), ('Back', 'Back to previous …"
      ]
     },
     "metadata": {},
     "output_type": "display_data"
    }
   ],
   "source": [
    "plot_scatter_by_management(\"degree\",\"management_neighbours_pct\")"
   ]
  },
  {
   "cell_type": "code",
   "execution_count": 34,
   "metadata": {},
   "outputs": [
    {
     "data": {
      "application/vnd.jupyter.widget-view+json": {
       "model_id": "570b1585c92c485280459bee9b8a27df",
       "version_major": 2,
       "version_minor": 0
      },
      "text/plain": [
       "Canvas(toolbar=Toolbar(toolitems=[('Home', 'Reset original view', 'home', 'home'), ('Back', 'Back to previous …"
      ]
     },
     "metadata": {},
     "output_type": "display_data"
    }
   ],
   "source": [
    "plot_scatter_by_management(\"nonmanagement_neighbours_pct\", \"management_neighbours_pct\")"
   ]
  },
  {
   "cell_type": "code",
   "execution_count": 35,
   "metadata": {},
   "outputs": [
    {
     "data": {
      "text/html": [
       "<div>\n",
       "<style scoped>\n",
       "    .dataframe tbody tr th:only-of-type {\n",
       "        vertical-align: middle;\n",
       "    }\n",
       "\n",
       "    .dataframe tbody tr th {\n",
       "        vertical-align: top;\n",
       "    }\n",
       "\n",
       "    .dataframe thead th {\n",
       "        text-align: right;\n",
       "    }\n",
       "</style>\n",
       "<table border=\"1\" class=\"dataframe\">\n",
       "  <thead>\n",
       "    <tr style=\"text-align: right;\">\n",
       "      <th></th>\n",
       "      <th>Department</th>\n",
       "      <th>ManagementSalary</th>\n",
       "      <th>clustering</th>\n",
       "      <th>degree</th>\n",
       "      <th>management_neighbours_count</th>\n",
       "      <th>management_neighbours_pct</th>\n",
       "      <th>nonmanagement_neighbours_count</th>\n",
       "      <th>nonmanagement_neighbours_pct</th>\n",
       "      <th>betweenness_centrality</th>\n",
       "      <th>closeness_centrality</th>\n",
       "      <th>hubs</th>\n",
       "      <th>authorities</th>\n",
       "    </tr>\n",
       "  </thead>\n",
       "  <tbody>\n",
       "    <tr>\n",
       "      <th>1</th>\n",
       "      <td>1</td>\n",
       "      <td>NaN</td>\n",
       "      <td>0.265306</td>\n",
       "      <td>52</td>\n",
       "      <td>15</td>\n",
       "      <td>0.288462</td>\n",
       "      <td>27</td>\n",
       "      <td>0.519231</td>\n",
       "      <td>0.001195</td>\n",
       "      <td>0.422360</td>\n",
       "      <td>0.001472</td>\n",
       "      <td>0.001472</td>\n",
       "    </tr>\n",
       "    <tr>\n",
       "      <th>2</th>\n",
       "      <td>21</td>\n",
       "      <td>NaN</td>\n",
       "      <td>0.297803</td>\n",
       "      <td>95</td>\n",
       "      <td>31</td>\n",
       "      <td>0.326316</td>\n",
       "      <td>34</td>\n",
       "      <td>0.357895</td>\n",
       "      <td>0.006570</td>\n",
       "      <td>0.461490</td>\n",
       "      <td>0.002680</td>\n",
       "      <td>0.002680</td>\n",
       "    </tr>\n",
       "    <tr>\n",
       "      <th>5</th>\n",
       "      <td>25</td>\n",
       "      <td>NaN</td>\n",
       "      <td>0.107002</td>\n",
       "      <td>171</td>\n",
       "      <td>50</td>\n",
       "      <td>0.292398</td>\n",
       "      <td>83</td>\n",
       "      <td>0.485380</td>\n",
       "      <td>0.030995</td>\n",
       "      <td>0.501484</td>\n",
       "      <td>0.004011</td>\n",
       "      <td>0.004011</td>\n",
       "    </tr>\n",
       "    <tr>\n",
       "      <th>8</th>\n",
       "      <td>14</td>\n",
       "      <td>NaN</td>\n",
       "      <td>0.447059</td>\n",
       "      <td>37</td>\n",
       "      <td>9</td>\n",
       "      <td>0.243243</td>\n",
       "      <td>22</td>\n",
       "      <td>0.594595</td>\n",
       "      <td>0.000557</td>\n",
       "      <td>0.413151</td>\n",
       "      <td>0.000791</td>\n",
       "      <td>0.000791</td>\n",
       "    </tr>\n",
       "    <tr>\n",
       "      <th>14</th>\n",
       "      <td>4</td>\n",
       "      <td>NaN</td>\n",
       "      <td>0.215784</td>\n",
       "      <td>80</td>\n",
       "      <td>15</td>\n",
       "      <td>0.187500</td>\n",
       "      <td>44</td>\n",
       "      <td>0.550000</td>\n",
       "      <td>0.003726</td>\n",
       "      <td>0.442068</td>\n",
       "      <td>0.001856</td>\n",
       "      <td>0.001856</td>\n",
       "    </tr>\n",
       "    <tr>\n",
       "      <th>...</th>\n",
       "      <td>...</td>\n",
       "      <td>...</td>\n",
       "      <td>...</td>\n",
       "      <td>...</td>\n",
       "      <td>...</td>\n",
       "      <td>...</td>\n",
       "      <td>...</td>\n",
       "      <td>...</td>\n",
       "      <td>...</td>\n",
       "      <td>...</td>\n",
       "      <td>...</td>\n",
       "      <td>...</td>\n",
       "    </tr>\n",
       "    <tr>\n",
       "      <th>992</th>\n",
       "      <td>4</td>\n",
       "      <td>NaN</td>\n",
       "      <td>0.000000</td>\n",
       "      <td>3</td>\n",
       "      <td>1</td>\n",
       "      <td>0.333333</td>\n",
       "      <td>0</td>\n",
       "      <td>0.000000</td>\n",
       "      <td>0.000000</td>\n",
       "      <td>0.332998</td>\n",
       "      <td>0.000072</td>\n",
       "      <td>0.000072</td>\n",
       "    </tr>\n",
       "    <tr>\n",
       "      <th>994</th>\n",
       "      <td>21</td>\n",
       "      <td>NaN</td>\n",
       "      <td>0.000000</td>\n",
       "      <td>1</td>\n",
       "      <td>1</td>\n",
       "      <td>1.000000</td>\n",
       "      <td>0</td>\n",
       "      <td>0.000000</td>\n",
       "      <td>0.000000</td>\n",
       "      <td>0.320517</td>\n",
       "      <td>0.000033</td>\n",
       "      <td>0.000033</td>\n",
       "    </tr>\n",
       "    <tr>\n",
       "      <th>996</th>\n",
       "      <td>14</td>\n",
       "      <td>NaN</td>\n",
       "      <td>0.000000</td>\n",
       "      <td>1</td>\n",
       "      <td>1</td>\n",
       "      <td>1.000000</td>\n",
       "      <td>0</td>\n",
       "      <td>0.000000</td>\n",
       "      <td>0.000000</td>\n",
       "      <td>0.300578</td>\n",
       "      <td>0.000019</td>\n",
       "      <td>0.000019</td>\n",
       "    </tr>\n",
       "    <tr>\n",
       "      <th>1000</th>\n",
       "      <td>4</td>\n",
       "      <td>NaN</td>\n",
       "      <td>0.600000</td>\n",
       "      <td>6</td>\n",
       "      <td>3</td>\n",
       "      <td>0.500000</td>\n",
       "      <td>1</td>\n",
       "      <td>0.166667</td>\n",
       "      <td>0.000004</td>\n",
       "      <td>0.355934</td>\n",
       "      <td>0.000161</td>\n",
       "      <td>0.000161</td>\n",
       "    </tr>\n",
       "    <tr>\n",
       "      <th>1001</th>\n",
       "      <td>21</td>\n",
       "      <td>NaN</td>\n",
       "      <td>0.844444</td>\n",
       "      <td>10</td>\n",
       "      <td>3</td>\n",
       "      <td>0.300000</td>\n",
       "      <td>4</td>\n",
       "      <td>0.400000</td>\n",
       "      <td>0.000004</td>\n",
       "      <td>0.339789</td>\n",
       "      <td>0.000194</td>\n",
       "      <td>0.000194</td>\n",
       "    </tr>\n",
       "  </tbody>\n",
       "</table>\n",
       "<p>252 rows × 12 columns</p>\n",
       "</div>"
      ],
      "text/plain": [
       "      Department  ManagementSalary  clustering  degree  \\\n",
       "1              1               NaN    0.265306      52   \n",
       "2             21               NaN    0.297803      95   \n",
       "5             25               NaN    0.107002     171   \n",
       "8             14               NaN    0.447059      37   \n",
       "14             4               NaN    0.215784      80   \n",
       "...          ...               ...         ...     ...   \n",
       "992            4               NaN    0.000000       3   \n",
       "994           21               NaN    0.000000       1   \n",
       "996           14               NaN    0.000000       1   \n",
       "1000           4               NaN    0.600000       6   \n",
       "1001          21               NaN    0.844444      10   \n",
       "\n",
       "      management_neighbours_count  management_neighbours_pct  \\\n",
       "1                              15                   0.288462   \n",
       "2                              31                   0.326316   \n",
       "5                              50                   0.292398   \n",
       "8                               9                   0.243243   \n",
       "14                             15                   0.187500   \n",
       "...                           ...                        ...   \n",
       "992                             1                   0.333333   \n",
       "994                             1                   1.000000   \n",
       "996                             1                   1.000000   \n",
       "1000                            3                   0.500000   \n",
       "1001                            3                   0.300000   \n",
       "\n",
       "      nonmanagement_neighbours_count  nonmanagement_neighbours_pct  \\\n",
       "1                                 27                      0.519231   \n",
       "2                                 34                      0.357895   \n",
       "5                                 83                      0.485380   \n",
       "8                                 22                      0.594595   \n",
       "14                                44                      0.550000   \n",
       "...                              ...                           ...   \n",
       "992                                0                      0.000000   \n",
       "994                                0                      0.000000   \n",
       "996                                0                      0.000000   \n",
       "1000                               1                      0.166667   \n",
       "1001                               4                      0.400000   \n",
       "\n",
       "      betweenness_centrality  closeness_centrality      hubs  authorities  \n",
       "1                   0.001195              0.422360  0.001472     0.001472  \n",
       "2                   0.006570              0.461490  0.002680     0.002680  \n",
       "5                   0.030995              0.501484  0.004011     0.004011  \n",
       "8                   0.000557              0.413151  0.000791     0.000791  \n",
       "14                  0.003726              0.442068  0.001856     0.001856  \n",
       "...                      ...                   ...       ...          ...  \n",
       "992                 0.000000              0.332998  0.000072     0.000072  \n",
       "994                 0.000000              0.320517  0.000033     0.000033  \n",
       "996                 0.000000              0.300578  0.000019     0.000019  \n",
       "1000                0.000004              0.355934  0.000161     0.000161  \n",
       "1001                0.000004              0.339789  0.000194     0.000194  \n",
       "\n",
       "[252 rows x 12 columns]"
      ]
     },
     "execution_count": 35,
     "metadata": {},
     "output_type": "execute_result"
    }
   ],
   "source": [
    "validation_df = df.loc[nan_nodes]\n",
    "validation_df"
   ]
  },
  {
   "cell_type": "code",
   "execution_count": 36,
   "metadata": {},
   "outputs": [
    {
     "data": {
      "text/html": [
       "<div>\n",
       "<style scoped>\n",
       "    .dataframe tbody tr th:only-of-type {\n",
       "        vertical-align: middle;\n",
       "    }\n",
       "\n",
       "    .dataframe tbody tr th {\n",
       "        vertical-align: top;\n",
       "    }\n",
       "\n",
       "    .dataframe thead th {\n",
       "        text-align: right;\n",
       "    }\n",
       "</style>\n",
       "<table border=\"1\" class=\"dataframe\">\n",
       "  <thead>\n",
       "    <tr style=\"text-align: right;\">\n",
       "      <th></th>\n",
       "      <th>Department</th>\n",
       "      <th>ManagementSalary</th>\n",
       "      <th>clustering</th>\n",
       "      <th>degree</th>\n",
       "      <th>management_neighbours_count</th>\n",
       "      <th>management_neighbours_pct</th>\n",
       "      <th>nonmanagement_neighbours_count</th>\n",
       "      <th>nonmanagement_neighbours_pct</th>\n",
       "      <th>betweenness_centrality</th>\n",
       "      <th>closeness_centrality</th>\n",
       "      <th>hubs</th>\n",
       "      <th>authorities</th>\n",
       "    </tr>\n",
       "  </thead>\n",
       "  <tbody>\n",
       "    <tr>\n",
       "      <th>3</th>\n",
       "      <td>21</td>\n",
       "      <td>1.0</td>\n",
       "      <td>0.384910</td>\n",
       "      <td>71</td>\n",
       "      <td>24</td>\n",
       "      <td>0.338028</td>\n",
       "      <td>25</td>\n",
       "      <td>0.352113</td>\n",
       "      <td>0.001654</td>\n",
       "      <td>0.441663</td>\n",
       "      <td>0.002369</td>\n",
       "      <td>0.002369</td>\n",
       "    </tr>\n",
       "    <tr>\n",
       "      <th>4</th>\n",
       "      <td>21</td>\n",
       "      <td>1.0</td>\n",
       "      <td>0.318691</td>\n",
       "      <td>96</td>\n",
       "      <td>35</td>\n",
       "      <td>0.364583</td>\n",
       "      <td>36</td>\n",
       "      <td>0.375000</td>\n",
       "      <td>0.005547</td>\n",
       "      <td>0.462152</td>\n",
       "      <td>0.003055</td>\n",
       "      <td>0.003055</td>\n",
       "    </tr>\n",
       "    <tr>\n",
       "      <th>6</th>\n",
       "      <td>25</td>\n",
       "      <td>1.0</td>\n",
       "      <td>0.155183</td>\n",
       "      <td>115</td>\n",
       "      <td>34</td>\n",
       "      <td>0.295652</td>\n",
       "      <td>52</td>\n",
       "      <td>0.452174</td>\n",
       "      <td>0.012387</td>\n",
       "      <td>0.475805</td>\n",
       "      <td>0.002554</td>\n",
       "      <td>0.002554</td>\n",
       "    </tr>\n",
       "    <tr>\n",
       "      <th>12</th>\n",
       "      <td>14</td>\n",
       "      <td>1.0</td>\n",
       "      <td>0.302597</td>\n",
       "      <td>58</td>\n",
       "      <td>13</td>\n",
       "      <td>0.224138</td>\n",
       "      <td>29</td>\n",
       "      <td>0.500000</td>\n",
       "      <td>0.004715</td>\n",
       "      <td>0.433151</td>\n",
       "      <td>0.001500</td>\n",
       "      <td>0.001500</td>\n",
       "    </tr>\n",
       "    <tr>\n",
       "      <th>13</th>\n",
       "      <td>26</td>\n",
       "      <td>1.0</td>\n",
       "      <td>0.110900</td>\n",
       "      <td>180</td>\n",
       "      <td>53</td>\n",
       "      <td>0.294444</td>\n",
       "      <td>93</td>\n",
       "      <td>0.516667</td>\n",
       "      <td>0.023565</td>\n",
       "      <td>0.503050</td>\n",
       "      <td>0.004325</td>\n",
       "      <td>0.004325</td>\n",
       "    </tr>\n",
       "    <tr>\n",
       "      <th>...</th>\n",
       "      <td>...</td>\n",
       "      <td>...</td>\n",
       "      <td>...</td>\n",
       "      <td>...</td>\n",
       "      <td>...</td>\n",
       "      <td>...</td>\n",
       "      <td>...</td>\n",
       "      <td>...</td>\n",
       "      <td>...</td>\n",
       "      <td>...</td>\n",
       "      <td>...</td>\n",
       "      <td>...</td>\n",
       "    </tr>\n",
       "    <tr>\n",
       "      <th>998</th>\n",
       "      <td>14</td>\n",
       "      <td>0.0</td>\n",
       "      <td>0.000000</td>\n",
       "      <td>1</td>\n",
       "      <td>0</td>\n",
       "      <td>0.000000</td>\n",
       "      <td>0</td>\n",
       "      <td>0.000000</td>\n",
       "      <td>0.000000</td>\n",
       "      <td>0.313753</td>\n",
       "      <td>0.000026</td>\n",
       "      <td>0.000026</td>\n",
       "    </tr>\n",
       "    <tr>\n",
       "      <th>999</th>\n",
       "      <td>15</td>\n",
       "      <td>0.0</td>\n",
       "      <td>0.000000</td>\n",
       "      <td>1</td>\n",
       "      <td>0</td>\n",
       "      <td>0.000000</td>\n",
       "      <td>0</td>\n",
       "      <td>0.000000</td>\n",
       "      <td>0.000000</td>\n",
       "      <td>0.311729</td>\n",
       "      <td>0.000040</td>\n",
       "      <td>0.000040</td>\n",
       "    </tr>\n",
       "    <tr>\n",
       "      <th>1002</th>\n",
       "      <td>1</td>\n",
       "      <td>0.0</td>\n",
       "      <td>0.000000</td>\n",
       "      <td>1</td>\n",
       "      <td>1</td>\n",
       "      <td>1.000000</td>\n",
       "      <td>0</td>\n",
       "      <td>0.000000</td>\n",
       "      <td>0.000000</td>\n",
       "      <td>0.297983</td>\n",
       "      <td>0.000017</td>\n",
       "      <td>0.000017</td>\n",
       "    </tr>\n",
       "    <tr>\n",
       "      <th>1003</th>\n",
       "      <td>6</td>\n",
       "      <td>0.0</td>\n",
       "      <td>0.000000</td>\n",
       "      <td>1</td>\n",
       "      <td>0</td>\n",
       "      <td>0.000000</td>\n",
       "      <td>1</td>\n",
       "      <td>1.000000</td>\n",
       "      <td>0.000000</td>\n",
       "      <td>0.298167</td>\n",
       "      <td>0.000024</td>\n",
       "      <td>0.000024</td>\n",
       "    </tr>\n",
       "    <tr>\n",
       "      <th>1004</th>\n",
       "      <td>22</td>\n",
       "      <td>0.0</td>\n",
       "      <td>0.000000</td>\n",
       "      <td>1</td>\n",
       "      <td>0</td>\n",
       "      <td>0.000000</td>\n",
       "      <td>0</td>\n",
       "      <td>0.000000</td>\n",
       "      <td>0.000000</td>\n",
       "      <td>0.295975</td>\n",
       "      <td>0.000017</td>\n",
       "      <td>0.000017</td>\n",
       "    </tr>\n",
       "  </tbody>\n",
       "</table>\n",
       "<p>753 rows × 12 columns</p>\n",
       "</div>"
      ],
      "text/plain": [
       "      Department  ManagementSalary  clustering  degree  \\\n",
       "3             21               1.0    0.384910      71   \n",
       "4             21               1.0    0.318691      96   \n",
       "6             25               1.0    0.155183     115   \n",
       "12            14               1.0    0.302597      58   \n",
       "13            26               1.0    0.110900     180   \n",
       "...          ...               ...         ...     ...   \n",
       "998           14               0.0    0.000000       1   \n",
       "999           15               0.0    0.000000       1   \n",
       "1002           1               0.0    0.000000       1   \n",
       "1003           6               0.0    0.000000       1   \n",
       "1004          22               0.0    0.000000       1   \n",
       "\n",
       "      management_neighbours_count  management_neighbours_pct  \\\n",
       "3                              24                   0.338028   \n",
       "4                              35                   0.364583   \n",
       "6                              34                   0.295652   \n",
       "12                             13                   0.224138   \n",
       "13                             53                   0.294444   \n",
       "...                           ...                        ...   \n",
       "998                             0                   0.000000   \n",
       "999                             0                   0.000000   \n",
       "1002                            1                   1.000000   \n",
       "1003                            0                   0.000000   \n",
       "1004                            0                   0.000000   \n",
       "\n",
       "      nonmanagement_neighbours_count  nonmanagement_neighbours_pct  \\\n",
       "3                                 25                      0.352113   \n",
       "4                                 36                      0.375000   \n",
       "6                                 52                      0.452174   \n",
       "12                                29                      0.500000   \n",
       "13                                93                      0.516667   \n",
       "...                              ...                           ...   \n",
       "998                                0                      0.000000   \n",
       "999                                0                      0.000000   \n",
       "1002                               0                      0.000000   \n",
       "1003                               1                      1.000000   \n",
       "1004                               0                      0.000000   \n",
       "\n",
       "      betweenness_centrality  closeness_centrality      hubs  authorities  \n",
       "3                   0.001654              0.441663  0.002369     0.002369  \n",
       "4                   0.005547              0.462152  0.003055     0.003055  \n",
       "6                   0.012387              0.475805  0.002554     0.002554  \n",
       "12                  0.004715              0.433151  0.001500     0.001500  \n",
       "13                  0.023565              0.503050  0.004325     0.004325  \n",
       "...                      ...                   ...       ...          ...  \n",
       "998                 0.000000              0.313753  0.000026     0.000026  \n",
       "999                 0.000000              0.311729  0.000040     0.000040  \n",
       "1002                0.000000              0.297983  0.000017     0.000017  \n",
       "1003                0.000000              0.298167  0.000024     0.000024  \n",
       "1004                0.000000              0.295975  0.000017     0.000017  \n",
       "\n",
       "[753 rows x 12 columns]"
      ]
     },
     "execution_count": 36,
     "metadata": {},
     "output_type": "execute_result"
    }
   ],
   "source": [
    "train_indices = management_nodes.copy()\n",
    "train_indices.extend(non_management_nodes)\n",
    "\n",
    "train_df = df.loc[train_indices]\n",
    "train_df"
   ]
  },
  {
   "cell_type": "code",
   "execution_count": 37,
   "metadata": {},
   "outputs": [
    {
     "name": "stdout",
     "output_type": "stream",
     "text": [
      "['management_neighbours_pct', 'nonmanagement_neighbours_pct', 'hubs', 'closeness_centrality', 'authorities', 'Department', 'degree', 'clustering', 'betweenness_centrality']\n"
     ]
    }
   ],
   "source": [
    "features = set(df.columns)\n",
    "features = list(features.difference(['ManagementSalary','nonmanagement_neighbours_count', 'management_neighbours_count']))\n",
    "print(features)"
   ]
  },
  {
   "cell_type": "code",
   "execution_count": 38,
   "metadata": {},
   "outputs": [],
   "source": [
    "target = 'ManagementSalary'"
   ]
  },
  {
   "cell_type": "code",
   "execution_count": 39,
   "metadata": {},
   "outputs": [],
   "source": [
    "from sklearn.model_selection import train_test_split"
   ]
  },
  {
   "cell_type": "code",
   "execution_count": 40,
   "metadata": {},
   "outputs": [],
   "source": [
    "X_train, X_test, y_train, y_test = train_test_split(train_df[features],train_df[target],test_size = 0.25)"
   ]
  },
  {
   "cell_type": "code",
   "execution_count": 41,
   "metadata": {},
   "outputs": [],
   "source": [
    "from sklearn.model_selection import cross_val_score\n",
    "from sklearn import svm"
   ]
  },
  {
   "cell_type": "code",
   "execution_count": 42,
   "metadata": {},
   "outputs": [],
   "source": [
    "clf_svm = svm.SVC(kernel='rbf', C=1)"
   ]
  },
  {
   "cell_type": "code",
   "execution_count": 43,
   "metadata": {},
   "outputs": [],
   "source": [
    "scores = cross_val_score(clf_svm, X_train, y_train, cv=5)"
   ]
  },
  {
   "cell_type": "code",
   "execution_count": 44,
   "metadata": {},
   "outputs": [
    {
     "data": {
      "text/plain": [
       "array([0.87610619, 0.88495575, 0.85840708, 0.90265487, 0.85714286])"
      ]
     },
     "execution_count": 44,
     "metadata": {},
     "output_type": "execute_result"
    }
   ],
   "source": [
    "scores"
   ]
  },
  {
   "cell_type": "code",
   "execution_count": 45,
   "metadata": {},
   "outputs": [
    {
     "data": {
      "text/plain": [
       "SVC(C=1, break_ties=False, cache_size=200, class_weight=None, coef0=0.0,\n",
       "    decision_function_shape='ovr', degree=3, gamma='scale', kernel='rbf',\n",
       "    max_iter=-1, probability=False, random_state=None, shrinking=True,\n",
       "    tol=0.001, verbose=False)"
      ]
     },
     "execution_count": 45,
     "metadata": {},
     "output_type": "execute_result"
    }
   ],
   "source": [
    "clf_svm.fit(X_train, y_train)"
   ]
  },
  {
   "cell_type": "code",
   "execution_count": 46,
   "metadata": {},
   "outputs": [],
   "source": [
    "from sklearn.ensemble import RandomForestClassifier"
   ]
  },
  {
   "cell_type": "code",
   "execution_count": 47,
   "metadata": {},
   "outputs": [],
   "source": [
    "clf_rf = RandomForestClassifier(n_jobs=-1, n_estimators=500)"
   ]
  },
  {
   "cell_type": "code",
   "execution_count": 48,
   "metadata": {},
   "outputs": [],
   "source": [
    "scores = cross_val_score(clf_rf, X_train, y_train, cv=5)"
   ]
  },
  {
   "cell_type": "code",
   "execution_count": 49,
   "metadata": {},
   "outputs": [
    {
     "data": {
      "text/plain": [
       "array([0.91150442, 0.92920354, 0.88495575, 0.90265487, 0.875     ])"
      ]
     },
     "execution_count": 49,
     "metadata": {},
     "output_type": "execute_result"
    }
   ],
   "source": [
    "scores"
   ]
  },
  {
   "cell_type": "code",
   "execution_count": 50,
   "metadata": {},
   "outputs": [],
   "source": [
    "clf_rf = clf_rf.fit(X_train, y_train)"
   ]
  },
  {
   "cell_type": "code",
   "execution_count": 51,
   "metadata": {},
   "outputs": [],
   "source": [
    "from sklearn.ensemble import GradientBoostingClassifier"
   ]
  },
  {
   "cell_type": "code",
   "execution_count": 52,
   "metadata": {},
   "outputs": [],
   "source": [
    "clf_gb = GradientBoostingClassifier(n_estimators=500)"
   ]
  },
  {
   "cell_type": "code",
   "execution_count": 53,
   "metadata": {},
   "outputs": [
    {
     "data": {
      "text/plain": [
       "array([0.92035398, 0.91150442, 0.90265487, 0.90265487, 0.89285714])"
      ]
     },
     "execution_count": 53,
     "metadata": {},
     "output_type": "execute_result"
    }
   ],
   "source": [
    "scores = cross_val_score(clf_gb, X_train, y_train, cv=5)\n",
    "scores"
   ]
  },
  {
   "cell_type": "code",
   "execution_count": 54,
   "metadata": {},
   "outputs": [
    {
     "data": {
      "text/plain": [
       "GradientBoostingClassifier(ccp_alpha=0.0, criterion='friedman_mse', init=None,\n",
       "                           learning_rate=0.1, loss='deviance', max_depth=3,\n",
       "                           max_features=None, max_leaf_nodes=None,\n",
       "                           min_impurity_decrease=0.0, min_impurity_split=None,\n",
       "                           min_samples_leaf=1, min_samples_split=2,\n",
       "                           min_weight_fraction_leaf=0.0, n_estimators=500,\n",
       "                           n_iter_no_change=None, presort='deprecated',\n",
       "                           random_state=None, subsample=1.0, tol=0.0001,\n",
       "                           validation_fraction=0.1, verbose=0,\n",
       "                           warm_start=False)"
      ]
     },
     "execution_count": 54,
     "metadata": {},
     "output_type": "execute_result"
    }
   ],
   "source": [
    "clf_gb.fit(X_train, y_train)"
   ]
  },
  {
   "cell_type": "code",
   "execution_count": 63,
   "metadata": {},
   "outputs": [],
   "source": [
    "from sklearn.metrics import roc_curve, roc_auc_score, classification_report"
   ]
  },
  {
   "cell_type": "code",
   "execution_count": 56,
   "metadata": {},
   "outputs": [],
   "source": [
    "svm_pred = clf_svm.predict(X_train)"
   ]
  },
  {
   "cell_type": "code",
   "execution_count": 57,
   "metadata": {},
   "outputs": [],
   "source": [
    "fpr, tpr , thresholds = roc_curve(y_train, svm_pred)"
   ]
  },
  {
   "cell_type": "code",
   "execution_count": 58,
   "metadata": {},
   "outputs": [
    {
     "data": {
      "text/plain": [
       "0.6568917018284106"
      ]
     },
     "execution_count": 58,
     "metadata": {},
     "output_type": "execute_result"
    }
   ],
   "source": [
    "roc_auc = roc_auc_score(y_train, svm_pred)\n",
    "roc_auc"
   ]
  },
  {
   "cell_type": "code",
   "execution_count": 59,
   "metadata": {},
   "outputs": [],
   "source": [
    "def plot_roc(y_true, y_pred, method):\n",
    "    fpr, tpr , thresholds = roc_curve(y_true, y_pred)\n",
    "    roc_auc = roc_auc_score(y_true, y_pred)\n",
    "    plt.figure()\n",
    "    plt.plot(fpr, tpr, color='darkorange',\n",
    "             lw=2, label='ROC curve (area = %0.2f)' % roc_auc)\n",
    "    plt.plot([0, 1], [0, 1], color='navy', lw=2, linestyle='--')\n",
    "    plt.xlim([0.0, 1.0])\n",
    "    plt.ylim([0.0, 1.05])\n",
    "    plt.xlabel('False Positive Rate')\n",
    "    plt.ylabel('True Positive Rate')\n",
    "    plt.title(f'Receiver operating characteristic - {method}')\n",
    "    plt.legend(loc=\"lower right\")\n",
    "    plt.show()\n",
    "    "
   ]
  },
  {
   "cell_type": "code",
   "execution_count": 65,
   "metadata": {},
   "outputs": [
    {
     "data": {
      "application/vnd.jupyter.widget-view+json": {
       "model_id": "c02832c6d8164fbfa7cefddfa3a9a523",
       "version_major": 2,
       "version_minor": 0
      },
      "text/plain": [
       "Canvas(toolbar=Toolbar(toolitems=[('Home', 'Reset original view', 'home', 'home'), ('Back', 'Back to previous …"
      ]
     },
     "metadata": {},
     "output_type": "display_data"
    },
    {
     "name": "stdout",
     "output_type": "stream",
     "text": [
      "              precision    recall  f1-score   support\n",
      "\n",
      "         0.0       0.91      0.99      0.95       160\n",
      "         1.0       0.87      0.45      0.59        29\n",
      "\n",
      "    accuracy                           0.90       189\n",
      "   macro avg       0.89      0.72      0.77       189\n",
      "weighted avg       0.90      0.90      0.89       189\n",
      "\n"
     ]
    }
   ],
   "source": [
    "svm_test_pred = clf_svm.predict(X_test)\n",
    "plot_roc(y_test, svm_test_pred, \"SVM - Test\")\n",
    "print(classification_report(y_test, svm_test_pred))"
   ]
  },
  {
   "cell_type": "code",
   "execution_count": 66,
   "metadata": {},
   "outputs": [
    {
     "data": {
      "application/vnd.jupyter.widget-view+json": {
       "model_id": "89ab7221b11c477faf47f1b3b309d095",
       "version_major": 2,
       "version_minor": 0
      },
      "text/plain": [
       "Canvas(toolbar=Toolbar(toolitems=[('Home', 'Reset original view', 'home', 'home'), ('Back', 'Back to previous …"
      ]
     },
     "metadata": {},
     "output_type": "display_data"
    },
    {
     "name": "stdout",
     "output_type": "stream",
     "text": [
      "              precision    recall  f1-score   support\n",
      "\n",
      "         0.0       0.94      0.96      0.95       160\n",
      "         1.0       0.76      0.66      0.70        29\n",
      "\n",
      "    accuracy                           0.92       189\n",
      "   macro avg       0.85      0.81      0.83       189\n",
      "weighted avg       0.91      0.92      0.91       189\n",
      "\n"
     ]
    }
   ],
   "source": [
    "rf_pred_test = clf_rf.predict(X_test)\n",
    "plot_roc(y_test, rf_pred_test, \"Random Forest- Test\")\n",
    "print(classification_report(y_test, rf_pred_test))"
   ]
  },
  {
   "cell_type": "code",
   "execution_count": 67,
   "metadata": {},
   "outputs": [
    {
     "data": {
      "application/vnd.jupyter.widget-view+json": {
       "model_id": "9504c6c1a179420d9641fe68fb01c80d",
       "version_major": 2,
       "version_minor": 0
      },
      "text/plain": [
       "Canvas(toolbar=Toolbar(toolitems=[('Home', 'Reset original view', 'home', 'home'), ('Back', 'Back to previous …"
      ]
     },
     "metadata": {},
     "output_type": "display_data"
    },
    {
     "name": "stdout",
     "output_type": "stream",
     "text": [
      "              precision    recall  f1-score   support\n",
      "\n",
      "         0.0       0.96      0.96      0.96       160\n",
      "         1.0       0.76      0.76      0.76        29\n",
      "\n",
      "    accuracy                           0.93       189\n",
      "   macro avg       0.86      0.86      0.86       189\n",
      "weighted avg       0.93      0.93      0.93       189\n",
      "\n"
     ]
    }
   ],
   "source": [
    "gb_pred_test = clf_gb.predict(X_test)\n",
    "plot_roc(y_test, gb_pred_test, \"GBT - Test\")\n",
    "print(classification_report(y_test, gb_pred_test))"
   ]
  }
 ],
 "metadata": {
  "kernelspec": {
   "display_name": "Python 3.7 (tensorflow)",
   "language": "python",
   "name": "tensorflow"
  },
  "language_info": {
   "codemirror_mode": {
    "name": "ipython",
    "version": 3
   },
   "file_extension": ".py",
   "mimetype": "text/x-python",
   "name": "python",
   "nbconvert_exporter": "python",
   "pygments_lexer": "ipython3",
   "version": "3.7.7"
  }
 },
 "nbformat": 4,
 "nbformat_minor": 4
}
