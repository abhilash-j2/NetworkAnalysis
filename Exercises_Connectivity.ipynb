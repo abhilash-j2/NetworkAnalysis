{
 "cells": [
  {
   "cell_type": "code",
   "execution_count": 1,
   "metadata": {},
   "outputs": [],
   "source": [
    "import networkx as nx\n",
    "import matplotlib.pyplot as plt"
   ]
  },
  {
   "cell_type": "code",
   "execution_count": 2,
   "metadata": {},
   "outputs": [
    {
     "name": "stdout",
     "output_type": "stream",
     "text": [
      "#Sender\tRecipient\ttime\n",
      "1\t2\t1262454010\n",
      "1\t3\t1262454010\n",
      "1\t4\t1262454010\n",
      "1\t5\t1262454010\n",
      "1\t6\t1262454010\n",
      "1\t7\t1262454010\n",
      "1\t8\t1262454010\n",
      "1\t9\t1262454010\n",
      "1\t10\t1262454010\n"
     ]
    }
   ],
   "source": [
    "! head datadump/email_network.txt"
   ]
  },
  {
   "cell_type": "code",
   "execution_count": 12,
   "metadata": {},
   "outputs": [],
   "source": [
    "email = nx.read_edgelist('datadump/email_network.txt',nodetype=str, data=((\"time\", int),), create_using=nx.MultiDiGraph)"
   ]
  },
  {
   "cell_type": "code",
   "execution_count": 23,
   "metadata": {},
   "outputs": [
    {
     "data": {
      "text/plain": [
       "<networkx.classes.multidigraph.MultiDiGraph at 0x2589cfd1288>"
      ]
     },
     "execution_count": 23,
     "metadata": {},
     "output_type": "execute_result"
    }
   ],
   "source": [
    "email"
   ]
  },
  {
   "cell_type": "code",
   "execution_count": 25,
   "metadata": {},
   "outputs": [
    {
     "data": {
      "text/plain": [
       "[('1', '2', {'time': 1262604260}),\n",
       " ('1', '2', {'time': 1262645364}),\n",
       " ('1', '2', {'time': 1262734830}),\n",
       " ('1', '2', {'time': 1262734947}),\n",
       " ('1', '2', {'time': 1263245473}),\n",
       " ('1', '2', {'time': 1263292625}),\n",
       " ('1', '2', {'time': 1263849711}),\n",
       " ('1', '2', {'time': 1264454347}),\n",
       " ('1', '2', {'time': 1264977448})]"
      ]
     },
     "execution_count": 25,
     "metadata": {},
     "output_type": "execute_result"
    }
   ],
   "source": [
    "list(email.edges(data=True))[1:10]"
   ]
  },
  {
   "cell_type": "markdown",
   "metadata": {},
   "source": [
    "### Total employee counts"
   ]
  },
  {
   "cell_type": "code",
   "execution_count": 26,
   "metadata": {},
   "outputs": [
    {
     "data": {
      "text/plain": [
       "167"
      ]
     },
     "execution_count": 26,
     "metadata": {},
     "output_type": "execute_result"
    }
   ],
   "source": [
    "len(email.nodes)"
   ]
  },
  {
   "cell_type": "markdown",
   "metadata": {},
   "source": [
    "### Total emails sent"
   ]
  },
  {
   "cell_type": "code",
   "execution_count": 27,
   "metadata": {},
   "outputs": [
    {
     "data": {
      "text/plain": [
       "82927"
      ]
     },
     "execution_count": 27,
     "metadata": {},
     "output_type": "execute_result"
    }
   ],
   "source": [
    "len(email.edges)"
   ]
  },
  {
   "cell_type": "markdown",
   "metadata": {},
   "source": [
    "### Is it possible to have some information to have spread to everyone in the network ?"
   ]
  },
  {
   "cell_type": "code",
   "execution_count": 29,
   "metadata": {},
   "outputs": [
    {
     "data": {
      "text/plain": [
       "False"
      ]
     },
     "execution_count": 29,
     "metadata": {},
     "output_type": "execute_result"
    }
   ],
   "source": [
    "nx.is_strongly_connected(email)"
   ]
  },
  {
   "cell_type": "markdown",
   "metadata": {},
   "source": [
    "When taking direction into account, it is not possible that every employee is connected in this network"
   ]
  },
  {
   "cell_type": "markdown",
   "metadata": {},
   "source": [
    "However, lets look at how this changes when we consider an undirected network"
   ]
  },
  {
   "cell_type": "code",
   "execution_count": 31,
   "metadata": {},
   "outputs": [],
   "source": [
    "email_ud = email.to_undirected(as_view=True)"
   ]
  },
  {
   "cell_type": "code",
   "execution_count": 33,
   "metadata": {},
   "outputs": [
    {
     "data": {
      "text/plain": [
       "(167, 50416)"
      ]
     },
     "execution_count": 33,
     "metadata": {},
     "output_type": "execute_result"
    }
   ],
   "source": [
    "len(email_ud.nodes), len(email_ud.edges)"
   ]
  },
  {
   "cell_type": "code",
   "execution_count": 34,
   "metadata": {},
   "outputs": [
    {
     "data": {
      "text/plain": [
       "True"
      ]
     },
     "execution_count": 34,
     "metadata": {},
     "output_type": "execute_result"
    }
   ],
   "source": [
    "nx.is_connected(email_ud)"
   ]
  },
  {
   "cell_type": "markdown",
   "metadata": {},
   "source": [
    "We see that once we make the graph undirected, the information flow is possible"
   ]
  },
  {
   "cell_type": "markdown",
   "metadata": {},
   "source": [
    "### How many nodes are there in the largest weakly connected components ?"
   ]
  },
  {
   "cell_type": "code",
   "execution_count": 52,
   "metadata": {},
   "outputs": [],
   "source": [
    "comp_wk = [len(x) for x in nx.weakly_connected_components(email)]"
   ]
  },
  {
   "cell_type": "code",
   "execution_count": 58,
   "metadata": {},
   "outputs": [
    {
     "data": {
      "text/plain": [
       "167"
      ]
     },
     "execution_count": 58,
     "metadata": {},
     "output_type": "execute_result"
    }
   ],
   "source": [
    "sorted(comp_wk, reverse=True)[0]"
   ]
  },
  {
   "cell_type": "markdown",
   "metadata": {},
   "source": [
    "### How many nodes are there in the largest strongly connected components ?"
   ]
  },
  {
   "cell_type": "code",
   "execution_count": 54,
   "metadata": {},
   "outputs": [],
   "source": [
    "comp_st = [len(x) for x in nx.strongly_connected_components(email)]"
   ]
  },
  {
   "cell_type": "code",
   "execution_count": 57,
   "metadata": {},
   "outputs": [
    {
     "data": {
      "text/plain": [
       "126"
      ]
     },
     "execution_count": 57,
     "metadata": {},
     "output_type": "execute_result"
    }
   ],
   "source": [
    "sorted(comp_st, reverse=True)[0]"
   ]
  },
  {
   "cell_type": "markdown",
   "metadata": {},
   "source": [
    "### Largest strongly connected subgraph"
   ]
  },
  {
   "cell_type": "code",
   "execution_count": 64,
   "metadata": {},
   "outputs": [],
   "source": [
    "email_sc_nodes = sorted(nx.strongly_connected_components(email), reverse=True, key=len)[0]"
   ]
  },
  {
   "cell_type": "code",
   "execution_count": 69,
   "metadata": {},
   "outputs": [],
   "source": [
    "email_sc = email.subgraph(email_sc_nodes)"
   ]
  },
  {
   "cell_type": "code",
   "execution_count": 70,
   "metadata": {},
   "outputs": [
    {
     "data": {
      "text/plain": [
       "(126, 82130)"
      ]
     },
     "execution_count": 70,
     "metadata": {},
     "output_type": "execute_result"
    }
   ],
   "source": [
    "len(email_sc.nodes), len(email_sc.edges)"
   ]
  },
  {
   "cell_type": "markdown",
   "metadata": {},
   "source": [
    "### Average distance in the strongly connected subgraph"
   ]
  },
  {
   "cell_type": "code",
   "execution_count": 71,
   "metadata": {},
   "outputs": [
    {
     "data": {
      "text/plain": [
       "1.6461587301587302"
      ]
     },
     "execution_count": 71,
     "metadata": {},
     "output_type": "execute_result"
    }
   ],
   "source": [
    "nx.average_shortest_path_length(email_sc)"
   ]
  },
  {
   "cell_type": "markdown",
   "metadata": {},
   "source": [
    "### Largest distance between 2 employees in strongly connected subgraph"
   ]
  },
  {
   "cell_type": "code",
   "execution_count": 72,
   "metadata": {},
   "outputs": [
    {
     "data": {
      "text/plain": [
       "3"
      ]
     },
     "execution_count": 72,
     "metadata": {},
     "output_type": "execute_result"
    }
   ],
   "source": [
    "nx.diameter(email_sc)"
   ]
  },
  {
   "cell_type": "markdown",
   "metadata": {},
   "source": [
    "### Nodes with eccentricity equalling the diameter"
   ]
  },
  {
   "cell_type": "code",
   "execution_count": 74,
   "metadata": {},
   "outputs": [
    {
     "data": {
      "text/plain": [
       "{'97': 3, '129': 3, '134': 3}"
      ]
     },
     "execution_count": 74,
     "metadata": {},
     "output_type": "execute_result"
    }
   ],
   "source": [
    "dict(filter(lambda x: x[1] == 3, nx.eccentricity(email_sc).items()))"
   ]
  },
  {
   "cell_type": "markdown",
   "metadata": {},
   "source": [
    "### Nodes with eccentricity equalling the radius"
   ]
  },
  {
   "cell_type": "code",
   "execution_count": 75,
   "metadata": {},
   "outputs": [
    {
     "data": {
      "text/plain": [
       "1"
      ]
     },
     "execution_count": 75,
     "metadata": {},
     "output_type": "execute_result"
    }
   ],
   "source": [
    "nx.radius(email_sc)"
   ]
  },
  {
   "cell_type": "code",
   "execution_count": 76,
   "metadata": {},
   "outputs": [
    {
     "data": {
      "text/plain": [
       "{'38': 1}"
      ]
     },
     "execution_count": 76,
     "metadata": {},
     "output_type": "execute_result"
    }
   ],
   "source": [
    "dict(filter(lambda x: x[1] == 1, nx.eccentricity(email_sc).items()))"
   ]
  },
  {
   "cell_type": "markdown",
   "metadata": {},
   "source": [
    "### Which node is connected to most other nodes by the shortest path equalling the diameter, and how many nodes are connected to this"
   ]
  },
  {
   "cell_type": "markdown",
   "metadata": {},
   "source": [
    "Initial intuition might suggest going through all pairs of nodes and finding shortest paths and then coming up with the list of nodes with shortest paths equalling diameter and finding the largest number of neighbours "
   ]
  },
  {
   "cell_type": "markdown",
   "metadata": {},
   "source": [
    "But we have already found out that nodes ['97','129','134'] are the ones with eccentricity 3 (equalling the radius) so we can just find the shortest paths from these to all others"
   ]
  },
  {
   "cell_type": "code",
   "execution_count": 82,
   "metadata": {},
   "outputs": [],
   "source": [
    "def get_paths_with_length(G, src_id, length):\n",
    "    paths_lengths = nx.single_source_shortest_path_length(G, src_id)\n",
    "    return dict(filter(lambda x: x[1] == length, paths_lengths.items()))\n",
    "\n",
    "def get_path_count_and_nodes_for_length(G, src_id, length):\n",
    "    output = (get_paths_with_length(G, src_id, length))\n",
    "    return (len(output), list(output.keys()))\n"
   ]
  },
  {
   "cell_type": "code",
   "execution_count": 87,
   "metadata": {},
   "outputs": [
    {
     "name": "stdout",
     "output_type": "stream",
     "text": [
      "97 -> (63, ['27', '26', '39', '24', '81', '29', '46', '51', '23', '8', '60', '83', '86', '149', '18', '106', '98', '40', '19', '30', '55', '43', '57', '20', '33', '34', '6', '105', '21', '123', '93', '75', '49', '16', '107', '79', '87', '52', '89', '128', '48', '82', '111', '109', '76', '151', '91', '41', '101', '124', '119', '96', '108', '110', '118', '129', '28', '99', '78', '120', '134', '121', '122'])\n",
      "129 -> (1, ['134'])\n",
      "134 -> (2, ['92', '97'])\n"
     ]
    }
   ],
   "source": [
    "for src_id in ['97','129','134']:\n",
    "    print(src_id, \"->\", get_path_count_and_nodes_for_length(email_sc, src_id, 3))"
   ]
  },
  {
   "cell_type": "markdown",
   "metadata": {},
   "source": [
    "### We find out that node '97' has the most shortest paths equalling 3 and has 63 other nodes it can reach with this distance"
   ]
  },
  {
   "cell_type": "markdown",
   "metadata": {},
   "source": [
    "### Q: Suppose you want to prevent communication from flowing to the node that you found in the previous question from any node in the center of email_sc, what is the smallest number of nodes you would need to remove from the graph (you're not allowed to remove the node from the previous question or the center nodes)? "
   ]
  },
  {
   "cell_type": "markdown",
   "metadata": {},
   "source": [
    "Center of the graph consists of nodes that have eccentricity equal to the radius of the graph. Therefore center of the graph is node '38' as found earlier and we want to stop communication from '38' to '97'"
   ]
  },
  {
   "cell_type": "code",
   "execution_count": 98,
   "metadata": {},
   "outputs": [
    {
     "data": {
      "text/plain": [
       "[]"
      ]
     },
     "execution_count": 98,
     "metadata": {},
     "output_type": "execute_result"
    }
   ],
   "source": [
    "nx.minimum_node_cut(email_sc, s=\"38\",t=\"97\")"
   ]
  },
  {
   "cell_type": "code",
   "execution_count": 99,
   "metadata": {},
   "outputs": [
    {
     "data": {
      "text/plain": [
       "{('14', '97'),\n",
       " ('32', '97'),\n",
       " ('37', '97'),\n",
       " ('38', '97'),\n",
       " ('45', '97'),\n",
       " ('46', '97')}"
      ]
     },
     "execution_count": 99,
     "metadata": {},
     "output_type": "execute_result"
    }
   ],
   "source": [
    "nx.minimum_edge_cut(email_sc, s=\"38\",t=\"97\")"
   ]
  },
  {
   "cell_type": "markdown",
   "metadata": {},
   "source": [
    "There is an edge that directly connects \"38\" to \"97\" and since we are not allowed to remove those nodes, it will always be connected. There are no nodes that you can remove that completely blocks communication without removing these two"
   ]
  },
  {
   "cell_type": "markdown",
   "metadata": {},
   "source": [
    "### Construct undirected graph from the above subgraph and find the transitivity and avg clustering"
   ]
  },
  {
   "cell_type": "code",
   "execution_count": 107,
   "metadata": {},
   "outputs": [],
   "source": [
    "email_un = nx.Graph(email_sc)"
   ]
  },
  {
   "cell_type": "markdown",
   "metadata": {},
   "source": [
    "This collapses the MultiDirected graph into a simple undirected graph"
   ]
  },
  {
   "cell_type": "code",
   "execution_count": 108,
   "metadata": {},
   "outputs": [
    {
     "data": {
      "text/plain": [
       "networkx.classes.graph.Graph"
      ]
     },
     "execution_count": 108,
     "metadata": {},
     "output_type": "execute_result"
    }
   ],
   "source": [
    "type(email_un)"
   ]
  },
  {
   "cell_type": "markdown",
   "metadata": {},
   "source": [
    "$Transitivity = \\frac{3 \\times \\text{Number of triangles in the network}}{\\text{Number of connected Triples of nodes in network}}$"
   ]
  },
  {
   "cell_type": "code",
   "execution_count": 109,
   "metadata": {},
   "outputs": [
    {
     "data": {
      "text/plain": [
       "0.570111160700385"
      ]
     },
     "execution_count": 109,
     "metadata": {},
     "output_type": "execute_result"
    }
   ],
   "source": [
    "nx.transitivity(email_un)"
   ]
  },
  {
   "cell_type": "code",
   "execution_count": 110,
   "metadata": {},
   "outputs": [
    {
     "data": {
      "text/plain": [
       "0.6975272437231418"
      ]
     },
     "execution_count": 110,
     "metadata": {},
     "output_type": "execute_result"
    }
   ],
   "source": [
    "nx.average_clustering(email_un)"
   ]
  },
  {
   "cell_type": "code",
   "execution_count": 111,
   "metadata": {},
   "outputs": [],
   "source": [
    "G = nx.Graph()"
   ]
  },
  {
   "cell_type": "code",
   "execution_count": 112,
   "metadata": {},
   "outputs": [],
   "source": [
    "G.add_edges_from([('A','B'), ('B','C'),('A','C'),('C','D'),('D','E'),('E','F'),('F','G'),('E','G')])"
   ]
  },
  {
   "cell_type": "code",
   "execution_count": 113,
   "metadata": {},
   "outputs": [
    {
     "data": {
      "image/png": "[encoded data removed]",
      "text/plain": [
       "<Figure size 432x288 with 1 Axes>"
      ]
     },
     "metadata": {},
     "output_type": "display_data"
    }
   ],
   "source": [
    "nx.draw_networkx(G)"
   ]
  },
  {
   "cell_type": "code",
   "execution_count": 114,
   "metadata": {},
   "outputs": [
    {
     "data": {
      "text/plain": [
       "{'A': 0.0,\n",
       " 'B': 0.0,\n",
       " 'C': 0.5333333333333333,\n",
       " 'D': 0.6,\n",
       " 'E': 0.5333333333333333,\n",
       " 'F': 0.0,\n",
       " 'G': 0.0}"
      ]
     },
     "execution_count": 114,
     "metadata": {},
     "output_type": "execute_result"
    }
   ],
   "source": [
    "nx.betweenness_centrality(G)"
   ]
  },
  {
   "cell_type": "code",
   "execution_count": 115,
   "metadata": {},
   "outputs": [
    {
     "data": {
      "text/plain": [
       "{'A': 0.0, 'B': 0.0, 'C': 8.0, 'D': 9.0, 'E': 8.0, 'F': 0.0, 'G': 0.0}"
      ]
     },
     "execution_count": 115,
     "metadata": {},
     "output_type": "execute_result"
    }
   ],
   "source": [
    "nx.betweenness_centrality(G,normalized=False)"
   ]
  },
  {
   "cell_type": "code",
   "execution_count": 117,
   "metadata": {},
   "outputs": [],
   "source": [
    "hubs, authority = nx.hits(G)"
   ]
  },
  {
   "cell_type": "code",
   "execution_count": 118,
   "metadata": {},
   "outputs": [
    {
     "data": {
      "text/plain": [
       "{'A': 0.1276778571444571,\n",
       " 'B': 0.1276778571444571,\n",
       " 'C': 0.17146154102216238,\n",
       " 'D': 0.14636548937784674,\n",
       " 'E': 0.17146154102216238,\n",
       " 'F': 0.1276778571444571,\n",
       " 'G': 0.1276778571444571}"
      ]
     },
     "execution_count": 118,
     "metadata": {},
     "output_type": "execute_result"
    }
   ],
   "source": [
    "hubs"
   ]
  },
  {
   "cell_type": "code",
   "execution_count": 119,
   "metadata": {},
   "outputs": [
    {
     "data": {
      "text/plain": [
       "{'A': 0.1276778569222,\n",
       " 'B': 0.1276778569222,\n",
       " 'C': 0.17146154186195142,\n",
       " 'D': 0.14636548858729723,\n",
       " 'E': 0.17146154186195142,\n",
       " 'F': 0.1276778569222,\n",
       " 'G': 0.1276778569222}"
      ]
     },
     "execution_count": 119,
     "metadata": {},
     "output_type": "execute_result"
    }
   ],
   "source": [
    "authority"
   ]
  },
  {
   "cell_type": "code",
   "execution_count": 122,
   "metadata": {},
   "outputs": [],
   "source": [
    "email_di = nx.DiGraph(email_sc)"
   ]
  },
  {
   "cell_type": "code",
   "execution_count": 123,
   "metadata": {},
   "outputs": [
    {
     "data": {
      "text/plain": [
       "(126, 5640)"
      ]
     },
     "execution_count": 123,
     "metadata": {},
     "output_type": "execute_result"
    }
   ],
   "source": [
    "len(email_di.nodes), len(email_di.edges)"
   ]
  },
  {
   "cell_type": "code",
   "execution_count": 124,
   "metadata": {
    "scrolled": true
   },
   "outputs": [
    {
     "data": {
      "text/plain": [
       "({'1': 0.018324994593692613,\n",
       "  '2': 0.011522111311519222,\n",
       "  '3': 0.01076150852664549,\n",
       "  '4': 0.010712519223727446,\n",
       "  '5': 0.008897291924670354,\n",
       "  '6': 0.007067589296597477,\n",
       "  '7': 0.012769237348884278,\n",
       "  '8': 0.009372521611911124,\n",
       "  '9': 0.011241963583799273,\n",
       "  '10': 0.009690242695875774,\n",
       "  '11': 0.004204879350964448,\n",
       "  '12': 0.004397216927296167,\n",
       "  '13': 0.010773581474260014,\n",
       "  '14': 0.010883839375950862,\n",
       "  '15': 0.009867766104725641,\n",
       "  '16': 0.00407838964809333,\n",
       "  '17': 0.006496107400708252,\n",
       "  '18': 0.01336014960474129,\n",
       "  '19': 0.007068735150295605,\n",
       "  '20': 0.008352784414446935,\n",
       "  '21': 0.007750400085610086,\n",
       "  '22': 0.007692709725374445,\n",
       "  '23': 0.011384830097516651,\n",
       "  '24': 0.00736722485554258,\n",
       "  '25': 0.005669119419866864,\n",
       "  '26': 0.007943243886745973,\n",
       "  '27': 0.01161727121432282,\n",
       "  '28': 0.0029680756734263222,\n",
       "  '29': 0.010941917474021285,\n",
       "  '30': 0.008570778268419534,\n",
       "  '31': 0.008664961832628052,\n",
       "  '32': 0.010294004524724466,\n",
       "  '33': 0.008002816953088332,\n",
       "  '34': 0.0055247534598941465,\n",
       "  '35': 0.018296365675400536,\n",
       "  '36': 0.0036919331714162654,\n",
       "  '37': 0.018330607338689152,\n",
       "  '38': 0.018551291290666582,\n",
       "  '39': 0.007867616964881995,\n",
       "  '40': 0.007029069767508691,\n",
       "  '41': 0.004315481783773202,\n",
       "  '42': 0.013897303724868646,\n",
       "  '43': 0.00867800061372396,\n",
       "  '44': 0.010931409446676239,\n",
       "  '45': 0.018330350702784336,\n",
       "  '46': 0.012032806165432642,\n",
       "  '47': 0.018382131325765407,\n",
       "  '48': 0.00906904350833575,\n",
       "  '49': 0.0055875120313628535,\n",
       "  '50': 0.012548925183416923,\n",
       "  '51': 0.004907817384075471,\n",
       "  '52': 0.005225569357830343,\n",
       "  '53': 0.009165197170705606,\n",
       "  '54': 0.007363263595051258,\n",
       "  '55': 0.0049414836477292895,\n",
       "  '56': 0.012006167407133164,\n",
       "  '57': 0.008019970650683992,\n",
       "  '58': 0.00846651951349825,\n",
       "  '59': 0.010224900563935765,\n",
       "  '60': 0.00446758682416806,\n",
       "  '61': 0.004739502351829575,\n",
       "  '62': 0.006657872667501966,\n",
       "  '63': 0.008312681567801523,\n",
       "  '64': 0.005810168234482595,\n",
       "  '65': 0.008540473467256456,\n",
       "  '66': 0.00927426725531141,\n",
       "  '67': 0.009043551494229916,\n",
       "  '68': 0.011237855591973923,\n",
       "  '69': 0.011986793080241354,\n",
       "  '70': 0.01063208897160954,\n",
       "  '71': 0.009158584267281899,\n",
       "  '72': 0.0077899219256246125,\n",
       "  '73': 0.0069200795117313404,\n",
       "  '74': 0.007854628521587099,\n",
       "  '75': 0.008171223372282963,\n",
       "  '76': 0.008651644944871329,\n",
       "  '77': 0.008314518350077267,\n",
       "  '78': 0.0016819059180612217,\n",
       "  '79': 0.006136772375238823,\n",
       "  '80': 0.009493316723932456,\n",
       "  '81': 0.007479664493403398,\n",
       "  '82': 0.0065413787182447775,\n",
       "  '83': 0.00926369063437215,\n",
       "  '84': 0.010979778515014879,\n",
       "  '85': 0.00800324722997977,\n",
       "  '86': 0.011652065194148657,\n",
       "  '87': 0.00683258892968761,\n",
       "  '88': 0.007762834881533129,\n",
       "  '89': 0.006437707511451922,\n",
       "  '90': 0.012311209705102607,\n",
       "  '91': 0.0034533387965398326,\n",
       "  '92': 0.0014883290525039207,\n",
       "  '93': 0.008599054287947893,\n",
       "  '94': 0.011992017606232107,\n",
       "  '95': 0.008162010950461832,\n",
       "  '96': 0.0038496792377864324,\n",
       "  '97': 0.00019431076438892239,\n",
       "  '98': 0.007793505345449703,\n",
       "  '99': 0.003180536202800089,\n",
       "  '100': 0.0068410271953206975,\n",
       "  '101': 0.0059209017826745355,\n",
       "  '103': 0.003575471379142047,\n",
       "  '104': 0.00877250750771726,\n",
       "  '105': 0.0047664763264393135,\n",
       "  '106': 0.004412282036839897,\n",
       "  '107': 0.0039024001016735635,\n",
       "  '108': 0.0022863401839118567,\n",
       "  '109': 0.004452634182166089,\n",
       "  '110': 0.0031373249152777576,\n",
       "  '111': 0.0033657362949202903,\n",
       "  '112': 0.010973462431626668,\n",
       "  '113': 0.018473976030296865,\n",
       "  '115': 0.016375426375480253,\n",
       "  '117': 0.006479503581260884,\n",
       "  '118': 0.0027003627414972577,\n",
       "  '119': 0.0028013702844306957,\n",
       "  '120': 0.0012280093996494311,\n",
       "  '121': 0.003082611160106128,\n",
       "  '122': 0.0022259748395344996,\n",
       "  '123': 0.004486269053672899,\n",
       "  '124': 0.003926512054643826,\n",
       "  '128': 0.0025421627301905683,\n",
       "  '129': 0.0013131615832804877,\n",
       "  '134': 0.0003012875498909321,\n",
       "  '149': 0.002872357810868866,\n",
       "  '151': 0.005835789968008274},\n",
       " {'1': 0.016093881595649808,\n",
       "  '2': 0.011014894724968163,\n",
       "  '3': 0.01097095567801855,\n",
       "  '4': 0.010155610595299298,\n",
       "  '5': 0.008822657422427395,\n",
       "  '6': 0.007098043403288816,\n",
       "  '7': 0.012242763307278366,\n",
       "  '8': 0.010030468100306568,\n",
       "  '9': 0.011168313956537316,\n",
       "  '10': 0.01019287829728792,\n",
       "  '11': 0.0046426955733878,\n",
       "  '12': 0.004836477874960055,\n",
       "  '13': 0.010718538530849442,\n",
       "  '14': 0.010379501031382125,\n",
       "  '15': 0.010771800364640906,\n",
       "  '16': 0.004419701940465748,\n",
       "  '17': 0.0069810131921346046,\n",
       "  '18': 0.012886980597155283,\n",
       "  '19': 0.006809394975395447,\n",
       "  '20': 0.007786196525315129,\n",
       "  '21': 0.009459594418466265,\n",
       "  '22': 0.009052247174612227,\n",
       "  '23': 0.011600934997255691,\n",
       "  '24': 0.007413953599245252,\n",
       "  '25': 0.006176115443227615,\n",
       "  '26': 0.008450664543965347,\n",
       "  '27': 0.011177601459708784,\n",
       "  '28': 0.0040114757725967995,\n",
       "  '29': 0.010579447422471251,\n",
       "  '30': 0.008199979515399887,\n",
       "  '31': 0.008414629490626178,\n",
       "  '32': 0.009706751304062653,\n",
       "  '33': 0.008188899414494471,\n",
       "  '34': 0.006447501584208379,\n",
       "  '35': 0.015434941041511193,\n",
       "  '36': 0.007452951630673184,\n",
       "  '37': 0.015476097939480267,\n",
       "  '38': 0.009045393390869882,\n",
       "  '39': 0.007706019374339892,\n",
       "  '40': 0.0092008398021243,\n",
       "  '41': 0.005367834407791216,\n",
       "  '42': 0.012210342671011341,\n",
       "  '43': 0.00889983825883563,\n",
       "  '44': 0.010570392838754236,\n",
       "  '45': 0.016572964777790536,\n",
       "  '46': 0.010745197896773282,\n",
       "  '47': 0.010853596002707471,\n",
       "  '48': 0.009698251896236925,\n",
       "  '49': 0.0060648399234522945,\n",
       "  '50': 0.013302219176894526,\n",
       "  '51': 0.005603710580989535,\n",
       "  '52': 0.005775203123785865,\n",
       "  '53': 0.009134014862869683,\n",
       "  '54': 0.007845195763519806,\n",
       "  '55': 0.005503079726124403,\n",
       "  '56': 0.011733218218844169,\n",
       "  '57': 0.00846353982809549,\n",
       "  '58': 0.00896241634107545,\n",
       "  '59': 0.008997599713583607,\n",
       "  '60': 0.004560134078231795,\n",
       "  '61': 0.005437970680954186,\n",
       "  '62': 0.008254715088177721,\n",
       "  '63': 0.008552720713518175,\n",
       "  '64': 0.0073169879254205965,\n",
       "  '65': 0.008218889793252011,\n",
       "  '66': 0.010022413868796591,\n",
       "  '67': 0.008404587173485,\n",
       "  '68': 0.010382556958269104,\n",
       "  '69': 0.010281069290677637,\n",
       "  '70': 0.010541779151537853,\n",
       "  '71': 0.007554139922378311,\n",
       "  '72': 0.008995002208611306,\n",
       "  '73': 0.007416871340670153,\n",
       "  '74': 0.00864093455085753,\n",
       "  '75': 0.008767513465126948,\n",
       "  '76': 0.008549485936143887,\n",
       "  '77': 0.007862908864471134,\n",
       "  '78': 0.00281125807138748,\n",
       "  '79': 0.007428202154885619,\n",
       "  '80': 0.010309815186365472,\n",
       "  '81': 0.009164295932426266,\n",
       "  '82': 0.0070701002817804524,\n",
       "  '83': 0.00937308019474614,\n",
       "  '84': 0.009841061036600735,\n",
       "  '85': 0.008848372996577486,\n",
       "  '86': 0.00980856338045771,\n",
       "  '87': 0.006576679302383329,\n",
       "  '88': 0.007694446763222368,\n",
       "  '89': 0.00714537084945657,\n",
       "  '90': 0.011836878497838836,\n",
       "  '91': 0.003942682614502414,\n",
       "  '92': 0.0025834939470579707,\n",
       "  '93': 0.009502292966698517,\n",
       "  '94': 0.011409489541621708,\n",
       "  '95': 0.009074135574408473,\n",
       "  '96': 0.004662695222212256,\n",
       "  '97': 0.001512001340735789,\n",
       "  '98': 0.008285424559534054,\n",
       "  '99': 0.0038953330304525653,\n",
       "  '100': 0.007404568494988695,\n",
       "  '101': 0.006052624664444335,\n",
       "  '103': 0.004816401462184922,\n",
       "  '104': 0.009292920928958105,\n",
       "  '105': 0.005548526702097972,\n",
       "  '106': 0.004797847200284435,\n",
       "  '107': 0.00466045088831525,\n",
       "  '108': 0.003463458774432027,\n",
       "  '109': 0.005013866935298247,\n",
       "  '110': 0.002953494173008818,\n",
       "  '111': 0.002188211914242744,\n",
       "  '112': 0.010561199279192132,\n",
       "  '113': 0.005947526035821592,\n",
       "  '115': 0.014308779732807638,\n",
       "  '117': 0.008504004817962776,\n",
       "  '118': 0.004029154004784221,\n",
       "  '119': 0.0037331160547263553,\n",
       "  '120': 0.002885735187349147,\n",
       "  '121': 0.003525039387710313,\n",
       "  '122': 0.003136880231007958,\n",
       "  '123': 0.005445198245880235,\n",
       "  '124': 0.004882779133337452,\n",
       "  '128': 0.003504723102706312,\n",
       "  '129': 0.002708775825855529,\n",
       "  '134': 0.00094411058202077,\n",
       "  '149': 0.004274415327556658,\n",
       "  '151': 0.00535757344186964})"
      ]
     },
     "execution_count": 124,
     "metadata": {},
     "output_type": "execute_result"
    }
   ],
   "source": [
    "nx.hits(email_di)"
   ]
  },
  {
   "cell_type": "code",
   "execution_count": 126,
   "metadata": {},
   "outputs": [
    {
     "data": {
      "text/plain": [
       "{'A': 0.4,\n",
       " 'B': 0.4,\n",
       " 'C': 0.5454545454545454,\n",
       " 'D': 0.6,\n",
       " 'E': 0.5454545454545454,\n",
       " 'F': 0.4,\n",
       " 'G': 0.4}"
      ]
     },
     "execution_count": 126,
     "metadata": {},
     "output_type": "execute_result"
    }
   ],
   "source": [
    "nx.closeness_centrality(G)"
   ]
  },
  {
   "cell_type": "code",
   "execution_count": null,
   "metadata": {},
   "outputs": [],
   "source": []
  },
  {
   "cell_type": "code",
   "execution_count": null,
   "metadata": {},
   "outputs": [],
   "source": []
  }
 ],
 "metadata": {
  "kernelspec": {
   "display_name": "Python 3.7 (tensorflow)",
   "language": "python",
   "name": "tensorflow"
  },
  "language_info": {
   "codemirror_mode": {
    "name": "ipython",
    "version": 3
   },
   "file_extension": ".py",
   "mimetype": "text/x-python",
   "name": "python",
   "nbconvert_exporter": "python",
   "pygments_lexer": "ipython3",
   "version": "3.7.7"
  }
 },
 "nbformat": 4,
 "nbformat_minor": 4
}
