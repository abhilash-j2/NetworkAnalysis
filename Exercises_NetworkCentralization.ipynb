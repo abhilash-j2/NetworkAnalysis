{
 "cells": [
  {
   "cell_type": "code",
   "execution_count": 1,
   "metadata": {},
   "outputs": [],
   "source": [
    "import networkx as nx \n",
    "\n",
    "G = nx.DiGraph()\n",
    "G.add_edges_from([('A', 'B'), ('C', 'A'), ('A', 'E'), ('G', 'A'), ('A', 'N'), ('B', 'C'), ('D', 'B'), \n",
    "                  ('B', 'E'), ('C', 'D'), ('E', 'C'), ('D', 'E'), ('E', 'D'), ('F', 'G'), ('I', 'F'), \n",
    "                  ('J', 'F'), ('H', 'G'), ('I', 'G'), ('G', 'J'), ('I', 'H'), ('H', 'I'), ('I', 'J'), \n",
    "                  ('J', 'O'), ('O', 'J'), ('K', 'M'), ('K', 'L'), ('O', 'K'), ('O', 'L'), ('N', 'L'), \n",
    "                  ('L', 'M'), ('N', 'O')])"
   ]
  },
  {
   "cell_type": "code",
   "execution_count": 3,
   "metadata": {},
   "outputs": [
    {
     "data": {
      "text/plain": [
       "False"
      ]
     },
     "execution_count": 3,
     "metadata": {},
     "output_type": "execute_result"
    }
   ],
   "source": [
    "nx.is_strongly_connected(G)"
   ]
  },
  {
   "cell_type": "code",
   "execution_count": 5,
   "metadata": {},
   "outputs": [
    {
     "data": {
      "text/plain": [
       "{('J', 'O'), ('N', 'O')}"
      ]
     },
     "execution_count": 5,
     "metadata": {},
     "output_type": "execute_result"
    }
   ],
   "source": [
    "nx.connectivity.minimum_edge_cut(G, s=\"H\",t=\"O\")"
   ]
  },
  {
   "cell_type": "code",
   "execution_count": 6,
   "metadata": {},
   "outputs": [],
   "source": [
    "karate = nx.karate_club_graph()"
   ]
  },
  {
   "cell_type": "code",
   "execution_count": 7,
   "metadata": {},
   "outputs": [],
   "source": [
    "karate = nx.convert_node_labels_to_integers(karate, first_label=1)"
   ]
  },
  {
   "cell_type": "markdown",
   "metadata": {},
   "source": [
    "## Measures of centrality\n",
    "### Degree centrality =  $\\frac{degree}{|N|-1}$\n",
    "This assumes that important nodes are the ones with the most connections to other nodes"
   ]
  },
  {
   "cell_type": "code",
   "execution_count": 10,
   "metadata": {},
   "outputs": [
    {
     "data": {
      "text/plain": [
       "{1: 0.48484848484848486,\n",
       " 2: 0.2727272727272727,\n",
       " 3: 0.30303030303030304,\n",
       " 4: 0.18181818181818182,\n",
       " 5: 0.09090909090909091,\n",
       " 6: 0.12121212121212122,\n",
       " 7: 0.12121212121212122,\n",
       " 8: 0.12121212121212122,\n",
       " 9: 0.15151515151515152,\n",
       " 10: 0.06060606060606061,\n",
       " 11: 0.09090909090909091,\n",
       " 12: 0.030303030303030304,\n",
       " 13: 0.06060606060606061,\n",
       " 14: 0.15151515151515152,\n",
       " 15: 0.06060606060606061,\n",
       " 16: 0.06060606060606061,\n",
       " 17: 0.06060606060606061,\n",
       " 18: 0.06060606060606061,\n",
       " 19: 0.06060606060606061,\n",
       " 20: 0.09090909090909091,\n",
       " 21: 0.06060606060606061,\n",
       " 22: 0.06060606060606061,\n",
       " 23: 0.06060606060606061,\n",
       " 24: 0.15151515151515152,\n",
       " 25: 0.09090909090909091,\n",
       " 26: 0.09090909090909091,\n",
       " 27: 0.06060606060606061,\n",
       " 28: 0.12121212121212122,\n",
       " 29: 0.09090909090909091,\n",
       " 30: 0.12121212121212122,\n",
       " 31: 0.12121212121212122,\n",
       " 32: 0.18181818181818182,\n",
       " 33: 0.36363636363636365,\n",
       " 34: 0.5151515151515151}"
      ]
     },
     "execution_count": 10,
     "metadata": {},
     "output_type": "execute_result"
    }
   ],
   "source": [
    "degCentrality = nx.degree_centrality(karate)\n",
    "degCentrality"
   ]
  },
  {
   "cell_type": "markdown",
   "metadata": {},
   "source": [
    "### Additionaly we could find indegree centrality and out-degree centrality for directed graphs\n",
    "#### In-degree centrality = $\\frac{degree_{in}}{|N| - 1}$\n",
    "#### Out-degree centrality = $\\frac{degree_{out}}{|N| - 1}$"
   ]
  },
  {
   "cell_type": "markdown",
   "metadata": {},
   "source": [
    "### Closeness centrality of node L = $\\frac{|R(L)|}{|N|-1} \\frac{|R(L)|}{\\sum_{v \\in R(L)}{dist(L,v)}}$ \n",
    "where R(L) denotes the nodes reachable from L"
   ]
  },
  {
   "cell_type": "code",
   "execution_count": 12,
   "metadata": {},
   "outputs": [],
   "source": [
    "\n",
    "G1 = nx.read_gml('datadump/friendships.gml')"
   ]
  },
  {
   "cell_type": "code",
   "execution_count": 13,
   "metadata": {},
   "outputs": [
    {
     "data": {
      "text/plain": [
       "(1133, 5453)"
      ]
     },
     "execution_count": 13,
     "metadata": {},
     "output_type": "execute_result"
    }
   ],
   "source": [
    "len(G1.nodes), len(G1.edges)"
   ]
  },
  {
   "cell_type": "code",
   "execution_count": 14,
   "metadata": {},
   "outputs": [
    {
     "data": {
      "text/plain": [
       "<networkx.classes.graph.Graph at 0x1e5dd8cbf88>"
      ]
     },
     "execution_count": 14,
     "metadata": {},
     "output_type": "execute_result"
    }
   ],
   "source": [
    "G1"
   ]
  },
  {
   "cell_type": "markdown",
   "metadata": {},
   "source": [
    "The graph is a simple graph with 1133 users and 5453 connections betweeen users"
   ]
  },
  {
   "cell_type": "markdown",
   "metadata": {},
   "source": [
    "### Find the degree centrality, closeness centrality, and normalized betweeness centrality (excluding endpoints) of node 100.\n"
   ]
  },
  {
   "cell_type": "code",
   "execution_count": 16,
   "metadata": {},
   "outputs": [
    {
     "data": {
      "text/plain": [
       "0.0026501766784452294"
      ]
     },
     "execution_count": 16,
     "metadata": {},
     "output_type": "execute_result"
    }
   ],
   "source": [
    "nx.degree_centrality(G1)[100]"
   ]
  },
  {
   "cell_type": "code",
   "execution_count": 18,
   "metadata": {},
   "outputs": [
    {
     "data": {
      "text/plain": [
       "7.142902633244772e-05"
      ]
     },
     "execution_count": 18,
     "metadata": {},
     "output_type": "execute_result"
    }
   ],
   "source": [
    "nx.betweenness_centrality(G1,normalized=True,endpoints=False)[100]"
   ]
  },
  {
   "cell_type": "code",
   "execution_count": 19,
   "metadata": {},
   "outputs": [
    {
     "data": {
      "text/plain": [
       "0.2654784240150094"
      ]
     },
     "execution_count": 19,
     "metadata": {},
     "output_type": "execute_result"
    }
   ],
   "source": [
    "nx.closeness_centrality(G1,u=100)"
   ]
  },
  {
   "cell_type": "markdown",
   "metadata": {},
   "source": [
    "#### Q: Suppose you are employed by an online shopping website and are tasked with selecting one user in network G1 to send an online shopping voucher to. We expect that the user who receives the voucher will send it to their friends in the network.  You want the voucher to reach as many nodes as possible. The voucher can be forwarded to multiple users at the same time, but the travel distance of the voucher is limited to one step, which means if the voucher travels more than one step in this network, it is no longer valid. Apply your knowledge in network centrality to select the best candidate for the voucher. "
   ]
  },
  {
   "cell_type": "code",
   "execution_count": 26,
   "metadata": {},
   "outputs": [
    {
     "data": {
      "text/plain": [
       "[(105, 0.0636042402826855),\n",
       " (23, 0.045936395759717315),\n",
       " (333, 0.045936395759717315),\n",
       " (16, 0.045053003533568906),\n",
       " (42, 0.045053003533568906),\n",
       " (41, 0.04328621908127209),\n",
       " (196, 0.04151943462897526),\n",
       " (233, 0.03975265017667844),\n",
       " (21, 0.037985865724381625),\n",
       " (76, 0.037985865724381625)]"
      ]
     },
     "execution_count": 26,
     "metadata": {},
     "output_type": "execute_result"
    }
   ],
   "source": [
    "deg_centrality = nx.degree_centrality(G1)\n",
    "sorted(deg_centrality.items(),reverse=True, key=itemgetter(1))[:10]"
   ]
  },
  {
   "cell_type": "markdown",
   "metadata": {},
   "source": [
    "User **105** is the most ideal to send it to, since they have the highest degree centrality indicating that at 1 hop away they contain the max number of neighbouring nodes"
   ]
  },
  {
   "cell_type": "markdown",
   "metadata": {},
   "source": [
    "#### Q: Now the limit of the voucher’s travel distance has been removed. Because the network is connected, regardless of who you pick, every node in the network will eventually receive the voucher. However, we now want to ensure that the voucher reaches the nodes in the lowest average number of hops.\n",
    "How would you change your selection strategy? Write a function to tell us who is the best candidate in the network under this condition."
   ]
  },
  {
   "cell_type": "code",
   "execution_count": 21,
   "metadata": {},
   "outputs": [],
   "source": [
    "close = nx.closeness_centrality(G1)"
   ]
  },
  {
   "cell_type": "code",
   "execution_count": 24,
   "metadata": {},
   "outputs": [
    {
     "data": {
      "text/plain": [
       "[(23, 0.3847722637661455),\n",
       " (333, 0.3828204261075414),\n",
       " (105, 0.38063214525891054),\n",
       " (42, 0.3775850567044696),\n",
       " (41, 0.3749585955614442),\n",
       " (76, 0.37433862433862436),\n",
       " (233, 0.3733509234828496),\n",
       " (52, 0.37322782723376197),\n",
       " (135, 0.36993464052287583),\n",
       " (378, 0.36860957342885053)]"
      ]
     },
     "execution_count": 24,
     "metadata": {},
     "output_type": "execute_result"
    }
   ],
   "source": [
    "from operator import itemgetter\n",
    "sorted(close.items(),reverse=True, key=itemgetter(1))[:10]"
   ]
  },
  {
   "cell_type": "markdown",
   "metadata": {},
   "source": [
    "User **23** seems to be a good candidate to send the voucher to, as they have the highest closeness centrality indicating that they would be able to reach other nodes with the shortest paths overall"
   ]
  },
  {
   "cell_type": "markdown",
   "metadata": {},
   "source": [
    "#### `G2` is a directed network of political blogs, where nodes correspond to a blog and edges correspond to links between blogs."
   ]
  },
  {
   "cell_type": "code",
   "execution_count": 29,
   "metadata": {},
   "outputs": [],
   "source": [
    "G2 = nx.read_gml('datadump/blogs.gml')"
   ]
  },
  {
   "cell_type": "code",
   "execution_count": 30,
   "metadata": {},
   "outputs": [
    {
     "data": {
      "text/plain": [
       "(1490, 19025)"
      ]
     },
     "execution_count": 30,
     "metadata": {},
     "output_type": "execute_result"
    }
   ],
   "source": [
    "len(G2.nodes), len(G2.edges)"
   ]
  },
  {
   "cell_type": "code",
   "execution_count": 31,
   "metadata": {},
   "outputs": [
    {
     "data": {
      "text/plain": [
       "<networkx.classes.digraph.DiGraph at 0x1e5dd90d8c8>"
      ]
     },
     "execution_count": 31,
     "metadata": {},
     "output_type": "execute_result"
    }
   ],
   "source": [
    "G2"
   ]
  },
  {
   "cell_type": "markdown",
   "metadata": {},
   "source": [
    "#### Find top 5 nodes with highest scaled pagerank"
   ]
  },
  {
   "cell_type": "code",
   "execution_count": 33,
   "metadata": {},
   "outputs": [],
   "source": [
    "pg_rank = nx.pagerank(G2,alpha=0.85)"
   ]
  },
  {
   "cell_type": "code",
   "execution_count": 37,
   "metadata": {},
   "outputs": [
    {
     "data": {
      "text/plain": [
       "{'dailykos.com': 0.017901443885198386,\n",
       " 'atrios.blogspot.com': 0.015178631721614684,\n",
       " 'instapundit.com': 0.012627090660729751,\n",
       " 'blogsforbush.com': 0.012508582138399098,\n",
       " 'talkingpointsmemo.com': 0.012393033204751033}"
      ]
     },
     "execution_count": 37,
     "metadata": {},
     "output_type": "execute_result"
    }
   ],
   "source": [
    "dict(sorted(pg_rank.items(),reverse=True, key=itemgetter(1))[:5])"
   ]
  },
  {
   "cell_type": "code",
   "execution_count": 38,
   "metadata": {},
   "outputs": [
    {
     "data": {
      "text/plain": [
       "0.004636694781649094"
      ]
     },
     "execution_count": 38,
     "metadata": {},
     "output_type": "execute_result"
    }
   ],
   "source": [
    "pg_rank[\"realclearpolitics.com\"]"
   ]
  },
  {
   "cell_type": "markdown",
   "metadata": {},
   "source": [
    "#### Find top 5 hubs and authorities"
   ]
  },
  {
   "cell_type": "code",
   "execution_count": 39,
   "metadata": {},
   "outputs": [],
   "source": [
    "hubs, authorities = nx.hits(G2,normalized=True)"
   ]
  },
  {
   "cell_type": "code",
   "execution_count": 40,
   "metadata": {},
   "outputs": [],
   "source": [
    "def get_top_N(dictionary, N):\n",
    "    return dict(sorted(dictionary.items(),reverse=True, key=itemgetter(1))[:N])"
   ]
  },
  {
   "cell_type": "code",
   "execution_count": 41,
   "metadata": {},
   "outputs": [
    {
     "data": {
      "text/plain": [
       "{'politicalstrategy.org': 0.006860032844631305,\n",
       " 'madkane.com/notable.html': 0.006198130021198813,\n",
       " 'liberaloasis.com': 0.0061346896013232885,\n",
       " 'stagefour.typepad.com/commonprejudice': 0.0059907290973003745,\n",
       " 'bodyandsoul.typepad.com': 0.005939626690753934}"
      ]
     },
     "execution_count": 41,
     "metadata": {},
     "output_type": "execute_result"
    }
   ],
   "source": [
    "get_top_N(hubs, 5)"
   ]
  },
  {
   "cell_type": "code",
   "execution_count": 42,
   "metadata": {},
   "outputs": [
    {
     "data": {
      "text/plain": [
       "{'dailykos.com': 0.015042267072353255,\n",
       " 'talkingpointsmemo.com': 0.014450907816427404,\n",
       " 'atrios.blogspot.com': 0.014083800022788357,\n",
       " 'washingtonmonthly.com': 0.011953445820310986,\n",
       " 'talkleft.com': 0.009705131061986168}"
      ]
     },
     "execution_count": 42,
     "metadata": {},
     "output_type": "execute_result"
    }
   ],
   "source": [
    "get_top_N(authorities, 5)"
   ]
  },
  {
   "cell_type": "code",
   "execution_count": 43,
   "metadata": {},
   "outputs": [
    {
     "data": {
      "text/plain": [
       "(0.0003243556140916672, 0.003918957645699851)"
      ]
     },
     "execution_count": 43,
     "metadata": {},
     "output_type": "execute_result"
    }
   ],
   "source": [
    "hubs[\"realclearpolitics.com\"], authorities[\"realclearpolitics.com\"]"
   ]
  },
  {
   "cell_type": "code",
   "execution_count": null,
   "metadata": {},
   "outputs": [],
   "source": []
  }
 ],
 "metadata": {
  "kernelspec": {
   "display_name": "Python 3.7 (tensorflow)",
   "language": "python",
   "name": "tensorflow"
  },
  "language_info": {
   "codemirror_mode": {
    "name": "ipython",
    "version": 3
   },
   "file_extension": ".py",
   "mimetype": "text/x-python",
   "name": "python",
   "nbconvert_exporter": "python",
   "pygments_lexer": "ipython3",
   "version": "3.7.7"
  }
 },
 "nbformat": 4,
 "nbformat_minor": 4
}
